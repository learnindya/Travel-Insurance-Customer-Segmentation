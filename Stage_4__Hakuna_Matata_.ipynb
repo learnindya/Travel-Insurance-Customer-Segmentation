{
 "cells": [
  {
   "cell_type": "markdown",
   "metadata": {
    "id": "csFt4vt7w_MY"
   },
   "source": [
    "**Travel Insurance**\n",
    "\n",
    "* Ahmad Faqih Ulumuddin\n",
    "* Ana Azzahra\n",
    "* Athiya Fathinati Anindya\n",
    "* Esa Risa Rouli Sekar Andonowari\n",
    "* Jerio Benediktus Rumagit\n",
    "* Mutiara Citra Sari\n",
    "* Nicken Shidqia Nurahman\n",
    "\n",
    "**Dataset: [TravelInsurancePrediction.csv](https://www.kaggle.com/datasets/tejashvi14/travel-insurance-prediction-data?resource=download)**\n",
    "\n",
    "**GitHub: [Hakuna Matata](https://github.com/Hakuna-Matata-Travel-Insurance/Final-Project.git)**\n"
   ]
  },
  {
   "cell_type": "markdown",
   "metadata": {},
   "source": [
    "# Problem Statement"
   ]
  },
  {
   "cell_type": "markdown",
   "metadata": {},
   "source": [
    "H hany \r\n",
    "35.73% pelanggan yamembelilih asuransi perjalann \r\n",
    "pada tahun . Tim memiliki tujuan untuk \n",
    "meningkatkan persentaseconversion ratermenjadi 40%5%.2019"
   ]
  },
  {
   "cell_type": "code",
   "execution_count": 1,
   "metadata": {
    "id": "bCKmiCaXrix2"
   },
   "outputs": [],
   "source": [
    "# Library yang digunakan\n",
    "\n",
    "import pandas as pd\n",
    "import numpy as np\n",
    "import matplotlib.pyplot as plt\n",
    "import seaborn as sns\n",
    "import warnings\n",
    "warnings.simplefilter(action='ignore', category= FutureWarning)"
   ]
  },
  {
   "cell_type": "code",
   "execution_count": 2,
   "metadata": {
    "id": "Do6Pftye5OzA"
   },
   "outputs": [],
   "source": [
    "url = 'https://raw.githubusercontent.com/Hakuna-Matata-Travel-Insurance/Final-Project/main/TravelInsurancePrediction.csv'\n",
    "df = pd.read_csv(url)"
   ]
  },
  {
   "cell_type": "markdown",
   "metadata": {
    "id": "XJSRzsTK6Yqr"
   },
   "source": [
    "# Statistik Deskriptif"
   ]
  },
  {
   "cell_type": "code",
   "execution_count": 3,
   "metadata": {
    "colab": {
     "base_uri": "https://localhost:8080/"
    },
    "id": "o3qEtVTr5iAP",
    "outputId": "1f59ee51-1bf8-4009-c88a-187be069196d"
   },
   "outputs": [
    {
     "name": "stdout",
     "output_type": "stream",
     "text": [
      "A. Tipe data dan nama kolom:\n",
      "<class 'pandas.core.frame.DataFrame'>\n",
      "RangeIndex: 1987 entries, 0 to 1986\n",
      "Data columns (total 10 columns):\n",
      " #   Column               Non-Null Count  Dtype \n",
      "---  ------               --------------  ----- \n",
      " 0   Unnamed: 0           1987 non-null   int64 \n",
      " 1   Age                  1987 non-null   int64 \n",
      " 2   Employment Type      1987 non-null   object\n",
      " 3   GraduateOrNot        1987 non-null   object\n",
      " 4   AnnualIncome         1987 non-null   int64 \n",
      " 5   FamilyMembers        1987 non-null   int64 \n",
      " 6   ChronicDiseases      1987 non-null   int64 \n",
      " 7   FrequentFlyer        1987 non-null   object\n",
      " 8   EverTravelledAbroad  1987 non-null   object\n",
      " 9   TravelInsurance      1987 non-null   int64 \n",
      "dtypes: int64(6), object(4)\n",
      "memory usage: 155.4+ KB\n",
      "None\n"
     ]
    }
   ],
   "source": [
    "# Cek tipe data dan nama kolom\n",
    "print(\"A. Tipe data dan nama kolom:\")\n",
    "print(df.info())"
   ]
  },
  {
   "cell_type": "code",
   "execution_count": 4,
   "metadata": {
    "colab": {
     "base_uri": "https://localhost:8080/",
     "height": 465
    },
    "id": "o2ZTUX9Y62SK",
    "outputId": "f8a3233b-103d-4588-c655-a3c46ea2e3a1"
   },
   "outputs": [
    {
     "data": {
      "text/html": [
       "<div>\n",
       "<style scoped>\n",
       "    .dataframe tbody tr th:only-of-type {\n",
       "        vertical-align: middle;\n",
       "    }\n",
       "\n",
       "    .dataframe tbody tr th {\n",
       "        vertical-align: top;\n",
       "    }\n",
       "\n",
       "    .dataframe thead th {\n",
       "        text-align: right;\n",
       "    }\n",
       "</style>\n",
       "<table border=\"1\" class=\"dataframe\">\n",
       "  <thead>\n",
       "    <tr style=\"text-align: right;\">\n",
       "      <th></th>\n",
       "      <th>Unnamed: 0</th>\n",
       "      <th>Age</th>\n",
       "      <th>Employment Type</th>\n",
       "      <th>GraduateOrNot</th>\n",
       "      <th>AnnualIncome</th>\n",
       "      <th>FamilyMembers</th>\n",
       "      <th>ChronicDiseases</th>\n",
       "      <th>FrequentFlyer</th>\n",
       "      <th>EverTravelledAbroad</th>\n",
       "      <th>TravelInsurance</th>\n",
       "    </tr>\n",
       "  </thead>\n",
       "  <tbody>\n",
       "    <tr>\n",
       "      <th>0</th>\n",
       "      <td>0</td>\n",
       "      <td>31</td>\n",
       "      <td>Government Sector</td>\n",
       "      <td>Yes</td>\n",
       "      <td>400000</td>\n",
       "      <td>6</td>\n",
       "      <td>1</td>\n",
       "      <td>No</td>\n",
       "      <td>No</td>\n",
       "      <td>0</td>\n",
       "    </tr>\n",
       "    <tr>\n",
       "      <th>1</th>\n",
       "      <td>1</td>\n",
       "      <td>31</td>\n",
       "      <td>Private Sector/Self Employed</td>\n",
       "      <td>Yes</td>\n",
       "      <td>1250000</td>\n",
       "      <td>7</td>\n",
       "      <td>0</td>\n",
       "      <td>No</td>\n",
       "      <td>No</td>\n",
       "      <td>0</td>\n",
       "    </tr>\n",
       "    <tr>\n",
       "      <th>2</th>\n",
       "      <td>2</td>\n",
       "      <td>34</td>\n",
       "      <td>Private Sector/Self Employed</td>\n",
       "      <td>Yes</td>\n",
       "      <td>500000</td>\n",
       "      <td>4</td>\n",
       "      <td>1</td>\n",
       "      <td>No</td>\n",
       "      <td>No</td>\n",
       "      <td>1</td>\n",
       "    </tr>\n",
       "    <tr>\n",
       "      <th>3</th>\n",
       "      <td>3</td>\n",
       "      <td>28</td>\n",
       "      <td>Private Sector/Self Employed</td>\n",
       "      <td>Yes</td>\n",
       "      <td>700000</td>\n",
       "      <td>3</td>\n",
       "      <td>1</td>\n",
       "      <td>No</td>\n",
       "      <td>No</td>\n",
       "      <td>0</td>\n",
       "    </tr>\n",
       "    <tr>\n",
       "      <th>4</th>\n",
       "      <td>4</td>\n",
       "      <td>28</td>\n",
       "      <td>Private Sector/Self Employed</td>\n",
       "      <td>Yes</td>\n",
       "      <td>700000</td>\n",
       "      <td>8</td>\n",
       "      <td>1</td>\n",
       "      <td>Yes</td>\n",
       "      <td>No</td>\n",
       "      <td>0</td>\n",
       "    </tr>\n",
       "  </tbody>\n",
       "</table>\n",
       "</div>"
      ],
      "text/plain": [
       "   Unnamed: 0  Age               Employment Type GraduateOrNot  AnnualIncome  \\\n",
       "0           0   31             Government Sector           Yes        400000   \n",
       "1           1   31  Private Sector/Self Employed           Yes       1250000   \n",
       "2           2   34  Private Sector/Self Employed           Yes        500000   \n",
       "3           3   28  Private Sector/Self Employed           Yes        700000   \n",
       "4           4   28  Private Sector/Self Employed           Yes        700000   \n",
       "\n",
       "   FamilyMembers  ChronicDiseases FrequentFlyer EverTravelledAbroad  \\\n",
       "0              6                1            No                  No   \n",
       "1              7                0            No                  No   \n",
       "2              4                1            No                  No   \n",
       "3              3                1            No                  No   \n",
       "4              8                1           Yes                  No   \n",
       "\n",
       "   TravelInsurance  \n",
       "0                0  \n",
       "1                0  \n",
       "2                1  \n",
       "3                0  \n",
       "4                0  "
      ]
     },
     "execution_count": 4,
     "metadata": {},
     "output_type": "execute_result"
    }
   ],
   "source": [
    "# Tampilkan 5 baris pertama data\n",
    "df.head()"
   ]
  },
  {
   "cell_type": "code",
   "execution_count": 5,
   "metadata": {
    "colab": {
     "base_uri": "https://localhost:8080/"
    },
    "id": "R3ggunyS8GQO",
    "outputId": "bf7b7e97-3ed6-4447-ed9c-6a368e8d13bf"
   },
   "outputs": [
    {
     "name": "stdout",
     "output_type": "stream",
     "text": [
      "\n",
      "C. Summary statistics:\n",
      "         Unnamed: 0          Age               Employment Type GraduateOrNot  \\\n",
      "count   1987.000000  1987.000000                          1987          1987   \n",
      "unique          NaN          NaN                             2             2   \n",
      "top             NaN          NaN  Private Sector/Self Employed           Yes   \n",
      "freq            NaN          NaN                          1417          1692   \n",
      "mean     993.000000    29.650226                           NaN           NaN   \n",
      "std      573.741812     2.913308                           NaN           NaN   \n",
      "min        0.000000    25.000000                           NaN           NaN   \n",
      "25%      496.500000    28.000000                           NaN           NaN   \n",
      "50%      993.000000    29.000000                           NaN           NaN   \n",
      "75%     1489.500000    32.000000                           NaN           NaN   \n",
      "max     1986.000000    35.000000                           NaN           NaN   \n",
      "\n",
      "        AnnualIncome  FamilyMembers  ChronicDiseases FrequentFlyer  \\\n",
      "count   1.987000e+03    1987.000000      1987.000000          1987   \n",
      "unique           NaN            NaN              NaN             2   \n",
      "top              NaN            NaN              NaN            No   \n",
      "freq             NaN            NaN              NaN          1570   \n",
      "mean    9.327630e+05       4.752894         0.277806           NaN   \n",
      "std     3.768557e+05       1.609650         0.448030           NaN   \n",
      "min     3.000000e+05       2.000000         0.000000           NaN   \n",
      "25%     6.000000e+05       4.000000         0.000000           NaN   \n",
      "50%     9.000000e+05       5.000000         0.000000           NaN   \n",
      "75%     1.250000e+06       6.000000         1.000000           NaN   \n",
      "max     1.800000e+06       9.000000         1.000000           NaN   \n",
      "\n",
      "       EverTravelledAbroad  TravelInsurance  \n",
      "count                 1987      1987.000000  \n",
      "unique                   2              NaN  \n",
      "top                     No              NaN  \n",
      "freq                  1607              NaN  \n",
      "mean                   NaN         0.357323  \n",
      "std                    NaN         0.479332  \n",
      "min                    NaN         0.000000  \n",
      "25%                    NaN         0.000000  \n",
      "50%                    NaN         0.000000  \n",
      "75%                    NaN         1.000000  \n",
      "max                    NaN         1.000000  \n"
     ]
    }
   ],
   "source": [
    "# Cek summary statistics\n",
    "print(\"\\nC. Summary statistics:\")\n",
    "print(df.describe(include='all'))"
   ]
  },
  {
   "cell_type": "code",
   "execution_count": 6,
   "metadata": {
    "id": "rZbAU3NX-49Y"
   },
   "outputs": [],
   "source": [
    "# Membagi data menjadi numerikal dan kategorikal\n",
    "numerical = df.select_dtypes(exclude='object')\n",
    "categorical = df.select_dtypes(include='object')\n",
    "num = numerical.columns\n",
    "cat = categorical.columns"
   ]
  },
  {
   "cell_type": "code",
   "execution_count": 7,
   "metadata": {
    "colab": {
     "base_uri": "https://localhost:8080/"
    },
    "id": "zOAfb2su_wGP",
    "outputId": "e2a8cbe6-56b5-480b-d634-82c2f65d3e5a"
   },
   "outputs": [
    {
     "name": "stdout",
     "output_type": "stream",
     "text": [
      "Unnamed: 0 = 1987\n",
      "Age = 11\n",
      "Employment Type = 2\n",
      "GraduateOrNot = 2\n",
      "AnnualIncome = 30\n",
      "FamilyMembers = 8\n",
      "ChronicDiseases = 2\n",
      "FrequentFlyer = 2\n",
      "EverTravelledAbroad = 2\n",
      "TravelInsurance = 2\n"
     ]
    }
   ],
   "source": [
    "# Cek total unique value\n",
    "dict = []\n",
    "for i in df.columns:\n",
    "    print(f'{i} = {df[i].nunique()}')"
   ]
  },
  {
   "cell_type": "code",
   "execution_count": 8,
   "metadata": {
    "colab": {
     "base_uri": "https://localhost:8080/",
     "height": 300
    },
    "id": "J8Qqvw-5AcnK",
    "outputId": "4ef9a730-1ebd-4b53-86b3-f08dca611fb3"
   },
   "outputs": [
    {
     "data": {
      "text/html": [
       "<div>\n",
       "<style scoped>\n",
       "    .dataframe tbody tr th:only-of-type {\n",
       "        vertical-align: middle;\n",
       "    }\n",
       "\n",
       "    .dataframe tbody tr th {\n",
       "        vertical-align: top;\n",
       "    }\n",
       "\n",
       "    .dataframe thead th {\n",
       "        text-align: right;\n",
       "    }\n",
       "</style>\n",
       "<table border=\"1\" class=\"dataframe\">\n",
       "  <thead>\n",
       "    <tr style=\"text-align: right;\">\n",
       "      <th></th>\n",
       "      <th>Unnamed: 0</th>\n",
       "      <th>Age</th>\n",
       "      <th>AnnualIncome</th>\n",
       "      <th>FamilyMembers</th>\n",
       "      <th>ChronicDiseases</th>\n",
       "      <th>TravelInsurance</th>\n",
       "    </tr>\n",
       "  </thead>\n",
       "  <tbody>\n",
       "    <tr>\n",
       "      <th>count</th>\n",
       "      <td>1987.000000</td>\n",
       "      <td>1987.000000</td>\n",
       "      <td>1.987000e+03</td>\n",
       "      <td>1987.000000</td>\n",
       "      <td>1987.000000</td>\n",
       "      <td>1987.000000</td>\n",
       "    </tr>\n",
       "    <tr>\n",
       "      <th>mean</th>\n",
       "      <td>993.000000</td>\n",
       "      <td>29.650226</td>\n",
       "      <td>9.327630e+05</td>\n",
       "      <td>4.752894</td>\n",
       "      <td>0.277806</td>\n",
       "      <td>0.357323</td>\n",
       "    </tr>\n",
       "    <tr>\n",
       "      <th>std</th>\n",
       "      <td>573.741812</td>\n",
       "      <td>2.913308</td>\n",
       "      <td>3.768557e+05</td>\n",
       "      <td>1.609650</td>\n",
       "      <td>0.448030</td>\n",
       "      <td>0.479332</td>\n",
       "    </tr>\n",
       "    <tr>\n",
       "      <th>min</th>\n",
       "      <td>0.000000</td>\n",
       "      <td>25.000000</td>\n",
       "      <td>3.000000e+05</td>\n",
       "      <td>2.000000</td>\n",
       "      <td>0.000000</td>\n",
       "      <td>0.000000</td>\n",
       "    </tr>\n",
       "    <tr>\n",
       "      <th>25%</th>\n",
       "      <td>496.500000</td>\n",
       "      <td>28.000000</td>\n",
       "      <td>6.000000e+05</td>\n",
       "      <td>4.000000</td>\n",
       "      <td>0.000000</td>\n",
       "      <td>0.000000</td>\n",
       "    </tr>\n",
       "    <tr>\n",
       "      <th>50%</th>\n",
       "      <td>993.000000</td>\n",
       "      <td>29.000000</td>\n",
       "      <td>9.000000e+05</td>\n",
       "      <td>5.000000</td>\n",
       "      <td>0.000000</td>\n",
       "      <td>0.000000</td>\n",
       "    </tr>\n",
       "    <tr>\n",
       "      <th>75%</th>\n",
       "      <td>1489.500000</td>\n",
       "      <td>32.000000</td>\n",
       "      <td>1.250000e+06</td>\n",
       "      <td>6.000000</td>\n",
       "      <td>1.000000</td>\n",
       "      <td>1.000000</td>\n",
       "    </tr>\n",
       "    <tr>\n",
       "      <th>max</th>\n",
       "      <td>1986.000000</td>\n",
       "      <td>35.000000</td>\n",
       "      <td>1.800000e+06</td>\n",
       "      <td>9.000000</td>\n",
       "      <td>1.000000</td>\n",
       "      <td>1.000000</td>\n",
       "    </tr>\n",
       "  </tbody>\n",
       "</table>\n",
       "</div>"
      ],
      "text/plain": [
       "        Unnamed: 0          Age  AnnualIncome  FamilyMembers  ChronicDiseases  \\\n",
       "count  1987.000000  1987.000000  1.987000e+03    1987.000000      1987.000000   \n",
       "mean    993.000000    29.650226  9.327630e+05       4.752894         0.277806   \n",
       "std     573.741812     2.913308  3.768557e+05       1.609650         0.448030   \n",
       "min       0.000000    25.000000  3.000000e+05       2.000000         0.000000   \n",
       "25%     496.500000    28.000000  6.000000e+05       4.000000         0.000000   \n",
       "50%     993.000000    29.000000  9.000000e+05       5.000000         0.000000   \n",
       "75%    1489.500000    32.000000  1.250000e+06       6.000000         1.000000   \n",
       "max    1986.000000    35.000000  1.800000e+06       9.000000         1.000000   \n",
       "\n",
       "       TravelInsurance  \n",
       "count      1987.000000  \n",
       "mean          0.357323  \n",
       "std           0.479332  \n",
       "min           0.000000  \n",
       "25%           0.000000  \n",
       "50%           0.000000  \n",
       "75%           1.000000  \n",
       "max           1.000000  "
      ]
     },
     "execution_count": 8,
     "metadata": {},
     "output_type": "execute_result"
    }
   ],
   "source": [
    "df.describe()"
   ]
  },
  {
   "cell_type": "code",
   "execution_count": 9,
   "metadata": {
    "colab": {
     "base_uri": "https://localhost:8080/",
     "height": 174
    },
    "id": "EBQLKlM1B0Oh",
    "outputId": "5fab3a2e-f71b-4776-f573-e862406b7389"
   },
   "outputs": [
    {
     "data": {
      "text/html": [
       "<div>\n",
       "<style scoped>\n",
       "    .dataframe tbody tr th:only-of-type {\n",
       "        vertical-align: middle;\n",
       "    }\n",
       "\n",
       "    .dataframe tbody tr th {\n",
       "        vertical-align: top;\n",
       "    }\n",
       "\n",
       "    .dataframe thead th {\n",
       "        text-align: right;\n",
       "    }\n",
       "</style>\n",
       "<table border=\"1\" class=\"dataframe\">\n",
       "  <thead>\n",
       "    <tr style=\"text-align: right;\">\n",
       "      <th></th>\n",
       "      <th>Employment Type</th>\n",
       "      <th>GraduateOrNot</th>\n",
       "      <th>FrequentFlyer</th>\n",
       "      <th>EverTravelledAbroad</th>\n",
       "    </tr>\n",
       "  </thead>\n",
       "  <tbody>\n",
       "    <tr>\n",
       "      <th>count</th>\n",
       "      <td>1987</td>\n",
       "      <td>1987</td>\n",
       "      <td>1987</td>\n",
       "      <td>1987</td>\n",
       "    </tr>\n",
       "    <tr>\n",
       "      <th>unique</th>\n",
       "      <td>2</td>\n",
       "      <td>2</td>\n",
       "      <td>2</td>\n",
       "      <td>2</td>\n",
       "    </tr>\n",
       "    <tr>\n",
       "      <th>top</th>\n",
       "      <td>Private Sector/Self Employed</td>\n",
       "      <td>Yes</td>\n",
       "      <td>No</td>\n",
       "      <td>No</td>\n",
       "    </tr>\n",
       "    <tr>\n",
       "      <th>freq</th>\n",
       "      <td>1417</td>\n",
       "      <td>1692</td>\n",
       "      <td>1570</td>\n",
       "      <td>1607</td>\n",
       "    </tr>\n",
       "  </tbody>\n",
       "</table>\n",
       "</div>"
      ],
      "text/plain": [
       "                     Employment Type GraduateOrNot FrequentFlyer  \\\n",
       "count                           1987          1987          1987   \n",
       "unique                             2             2             2   \n",
       "top     Private Sector/Self Employed           Yes            No   \n",
       "freq                            1417          1692          1570   \n",
       "\n",
       "       EverTravelledAbroad  \n",
       "count                 1987  \n",
       "unique                   2  \n",
       "top                     No  \n",
       "freq                  1607  "
      ]
     },
     "execution_count": 9,
     "metadata": {},
     "output_type": "execute_result"
    }
   ],
   "source": [
    "df.describe(include=['object'])"
   ]
  },
  {
   "cell_type": "markdown",
   "metadata": {
    "id": "DfzfRwBHB9aB"
   },
   "source": [
    "Selisih mean dan mediannya kecil, sehingga kecil kemungkinan terjadinya anomali di antara masing-masing unique value"
   ]
  },
  {
   "cell_type": "markdown",
   "metadata": {
    "id": "l12V8Yv2DJTj"
   },
   "source": [
    "Semua kolom mempunyai sebaran data yang sama dan tidak ada perbedaan yang signifikan antara mean dan median, serta maxnya tidak terlalu timpang"
   ]
  },
  {
   "cell_type": "code",
   "execution_count": 10,
   "metadata": {},
   "outputs": [
    {
     "data": {
      "text/plain": [
       "TravelInsurance\n",
       "0    1277\n",
       "1     710\n",
       "Name: count, dtype: int64"
      ]
     },
     "execution_count": 10,
     "metadata": {},
     "output_type": "execute_result"
    }
   ],
   "source": [
    "# Jumlah Target\n",
    "df.TravelInsurance.value_counts()"
   ]
  },
  {
   "cell_type": "code",
   "execution_count": 11,
   "metadata": {
    "colab": {
     "base_uri": "https://localhost:8080/"
    },
    "id": "5aj7QHAPDggr",
    "outputId": "83b95d43-e3c2-48bd-a85e-4bdfa523d488"
   },
   "outputs": [
    {
     "data": {
      "text/plain": [
       "TravelInsurance\n",
       "0    64.27\n",
       "1    35.73\n",
       "Name: proportion, dtype: float64"
      ]
     },
     "execution_count": 11,
     "metadata": {},
     "output_type": "execute_result"
    }
   ],
   "source": [
    "# Persentasi Target\n",
    "count_target = df['TravelInsurance'].value_counts(normalize=True).mul(100).round(2)\n",
    "\n",
    "count_target"
   ]
  },
  {
   "cell_type": "markdown",
   "metadata": {
    "id": "f511Gk4TDfEk"
   },
   "source": [
    "### **Descriptive Statistics Insight**\n",
    "\n",
    "A. Apakah ada kolom dengan tipe data kurang sesuai, atau nama kolom dan isinya\n",
    "kurang sesuai?\n",
    "\n",
    "* Kolom 'GraduateOrNot', 'ChronicDiseases', 'FrequentFlyer', 'EverTravelledAbroad', dan 'TravelInsurance' adalah tipe data Boolean, jadi untuk keperluan EDA sebaiknya disamakan saja tipenya menjadi object atau integer agar mudah dikategorikan menjadi data numerikal dan kategorikal. Ini akan memudahkan pemahaman bahwa data numerikal adalah yang berisi angka (integer), dan data kategorikal berisi karakter/string (object).\n",
    "\n",
    "* Kolom 'TravelInsurance' tidak diubah karena merupakan target dan nantinya dibutuhkan data numerikal saat modelling machine learning.\n",
    "\n",
    "\n",
    "B. Apakah ada kolom yang memiliki nilai kosong? Jika ada, apa saja?\n",
    "\n",
    "Tidak ada kolom yang memiliki nilai kosong dalam dataset ini.\n",
    "\n",
    "\n",
    "\n",
    "C. Apakah ada kolom yang memiliki nilai summary agak aneh?\n",
    "(min/mean/median/max/unique/top/freq)\n",
    "\n",
    "* Rentang umur pelanggan adalah 25-35, termasuk golongan usia produktif yang muda.\n",
    "\n",
    "* Pelanggan didominasi oleh karyawan swasta dan wiraswasta, lulusan universitas, tidak mengidap penyakit kronis, tidak sering bepergian dengan pesawat dan belum pernah traveling keluar negeri.\n",
    "\n",
    "* Pelanggan dengan frekuensi terbanyak berusia 28 tahun, dengan Pendapatan Tahunan 800.000, dan memiliki 4 Anggota Keluarga\n",
    "\n",
    "* Pelanggan yang membeli asuransi perjalanan hanya 35,73%"
   ]
  },
  {
   "cell_type": "markdown",
   "metadata": {
    "id": "GSptzvrAFRI6"
   },
   "source": [
    "# Analisis Univariat"
   ]
  },
  {
   "cell_type": "code",
   "execution_count": 12,
   "metadata": {
    "colab": {
     "base_uri": "https://localhost:8080/",
     "height": 550
    },
    "id": "_MYSj6daFPce",
    "outputId": "26eafc8c-93eb-4877-eb27-ffc54f811aeb"
   },
   "outputs": [
    {
     "data": {
      "image/png": "[encoded data removed]",
      "text/plain": [
       "<Figure size 1500x700 with 6 Axes>"
      ]
     },
     "metadata": {},
     "output_type": "display_data"
    }
   ],
   "source": [
    "# Set up the matplotlib figure\n",
    "plt.figure(figsize=(15, 7))\n",
    "\n",
    "# Visualisasi distribusi masing-masing kolom numerik\n",
    "for i, column in enumerate(num, 1):\n",
    "    plt.subplot(3, 2, i)\n",
    "    sns.histplot(df[column], kde=True, color='skyblue')\n",
    "    plt.title(f'Distribution of {column}')"
   ]
  },
  {
   "cell_type": "code",
   "execution_count": 13,
   "metadata": {
    "colab": {
     "base_uri": "https://localhost:8080/",
     "height": 510
    },
    "id": "OwVMzr6bIugB",
    "outputId": "51aafee2-7d32-4f3b-fd77-9e9e00877229"
   },
   "outputs": [
    {
     "data": {
      "image/png": "[encoded data removed]",
      "text/plain": [
       "<Figure size 1500x700 with 6 Axes>"
      ]
     },
     "metadata": {},
     "output_type": "display_data"
    }
   ],
   "source": [
    "# Distribusi boxplot untuk fitur numerikal\n",
    "plt.figure(figsize=(15,7))\n",
    "for i, column in enumerate(num, 1):\n",
    "    plt.subplot(2, 3, i)\n",
    "    sns.boxplot(df[column], color='skyblue', orient='v')\n",
    "plt.tight_layout()\n",
    "plt.show()"
   ]
  },
  {
   "cell_type": "code",
   "execution_count": 14,
   "metadata": {
    "colab": {
     "base_uri": "https://localhost:8080/",
     "height": 508
    },
    "id": "LqQKgq7pPAwS",
    "outputId": "80b02fda-9184-4bbe-ae42-d71c665586c4"
   },
   "outputs": [
    {
     "data": {
      "image/png": "[encoded data removed]",
      "text/plain": [
       "<Figure size 1500x700 with 4 Axes>"
      ]
     },
     "metadata": {},
     "output_type": "display_data"
    }
   ],
   "source": [
    "# Bar plot fitur kategorikal\n",
    "plt.figure(figsize=(15,7))\n",
    "for i, column in enumerate(cat, 1):\n",
    "    plt.subplot(2, 3, i)\n",
    "    sns.countplot(x=column, data=df, palette=\"hls\")\n",
    "plt.tight_layout()\n",
    "plt.show()"
   ]
  },
  {
   "cell_type": "code",
   "execution_count": 15,
   "metadata": {
    "colab": {
     "base_uri": "https://localhost:8080/",
     "height": 510
    },
    "id": "THgFbo97c6aD",
    "outputId": "6cb4e8f7-ff4c-4253-cd19-3246a7df6a9e"
   },
   "outputs": [
    {
     "data": {
      "image/png": "[encoded data removed]",
      "text/plain": [
       "<Figure size 1500x700 with 4 Axes>"
      ]
     },
     "metadata": {},
     "output_type": "display_data"
    }
   ],
   "source": [
    "plt.figure(figsize=(15, 7))\n",
    "\n",
    "for i, column in enumerate(cat, 1):\n",
    "    plt.subplot(2, 3, i)\n",
    "    sns.countplot(x=column, data=df, palette=\"hls\")\n",
    "\n",
    "    # Calculate and display percentages on top of each bar\n",
    "    total = len(df[column])\n",
    "    for p in plt.gca().patches:\n",
    "        height = p.get_height()\n",
    "        plt.gca().text(p.get_x() + p.get_width() / 2, height + 0.1, f'{height/total:.1%}', ha='center', fontsize=8)\n",
    "\n",
    "    plt.title(f'Distribution of {column}')\n",
    "    plt.ylabel('Number of customers')\n",
    "\n",
    "plt.tight_layout()\n",
    "plt.show()\n"
   ]
  },
  {
   "cell_type": "markdown",
   "metadata": {
    "id": "Qi2akI3UMNVI"
   },
   "source": [
    "### Analisis Univariat Insight\n",
    "\n",
    "A. Fitur Numerikal\n",
    "* Distribusi umur bervariasi, dengan mean, median, dan modus yang mirip (29.650226, 29, dan 28)\n",
    "* Distribusi annual income bervariasi namun merata, dengan mean = 932,763 dan median = 900,000\n",
    "* Distribusi anggota keluarga cenderung positif (positively skewed), dengan rata-rata (median) 5 orang. Anggota keluarga yang paling banyak muncul adalah 4 orang. Tiap pelanggan memiliki setidaknya 2 orang anggota keluarga\n",
    "* Lebih dari 60% pelanggan tidak membeli travel insurance\n",
    "* Tidak ada outlier\n",
    "\n",
    "B. Fitur Kategorikal\n",
    "* Lebih dari 70% pelanggan adalah karyawan swasta dan wiraswasta\n",
    "* Sekitar 85% pelanggan adalah lulusan perguruan tinggi\n",
    "* 27.8% pelanggan mengidap penyakit kronis\n",
    "* Hanya 21% pelanggan yang sering bepergian dengan pesawat\n",
    "* Hanya 19% pelanggan yang pernah traveling keluar negeri"
   ]
  },
  {
   "cell_type": "markdown",
   "metadata": {
    "id": "oBDhoUIiQWep"
   },
   "source": [
    "# Analisis Multivariat"
   ]
  },
  {
   "cell_type": "code",
   "execution_count": 16,
   "metadata": {
    "colab": {
     "base_uri": "https://localhost:8080/",
     "height": 399
    },
    "id": "O9QwvrqlMJim",
    "outputId": "8bda059e-cde1-45ab-efff-23477b4ce6b6"
   },
   "outputs": [
    {
     "data": {
      "text/html": [
       "<div>\n",
       "<style scoped>\n",
       "    .dataframe tbody tr th:only-of-type {\n",
       "        vertical-align: middle;\n",
       "    }\n",
       "\n",
       "    .dataframe tbody tr th {\n",
       "        vertical-align: top;\n",
       "    }\n",
       "\n",
       "    .dataframe thead th {\n",
       "        text-align: right;\n",
       "    }\n",
       "</style>\n",
       "<table border=\"1\" class=\"dataframe\">\n",
       "  <thead>\n",
       "    <tr style=\"text-align: right;\">\n",
       "      <th></th>\n",
       "      <th>Unnamed: 0</th>\n",
       "      <th>Age</th>\n",
       "      <th>Employment Type</th>\n",
       "      <th>GraduateOrNot</th>\n",
       "      <th>AnnualIncome</th>\n",
       "      <th>FamilyMembers</th>\n",
       "      <th>ChronicDiseases</th>\n",
       "      <th>FrequentFlyer</th>\n",
       "      <th>EverTravelledAbroad</th>\n",
       "      <th>TravelInsurance</th>\n",
       "    </tr>\n",
       "  </thead>\n",
       "  <tbody>\n",
       "    <tr>\n",
       "      <th>0</th>\n",
       "      <td>0</td>\n",
       "      <td>31</td>\n",
       "      <td>Government Sector</td>\n",
       "      <td>1</td>\n",
       "      <td>400000</td>\n",
       "      <td>6</td>\n",
       "      <td>1</td>\n",
       "      <td>0</td>\n",
       "      <td>0</td>\n",
       "      <td>0</td>\n",
       "    </tr>\n",
       "    <tr>\n",
       "      <th>1</th>\n",
       "      <td>1</td>\n",
       "      <td>31</td>\n",
       "      <td>Private Sector/Self Employed</td>\n",
       "      <td>1</td>\n",
       "      <td>1250000</td>\n",
       "      <td>7</td>\n",
       "      <td>0</td>\n",
       "      <td>0</td>\n",
       "      <td>0</td>\n",
       "      <td>0</td>\n",
       "    </tr>\n",
       "    <tr>\n",
       "      <th>2</th>\n",
       "      <td>2</td>\n",
       "      <td>34</td>\n",
       "      <td>Private Sector/Self Employed</td>\n",
       "      <td>1</td>\n",
       "      <td>500000</td>\n",
       "      <td>4</td>\n",
       "      <td>1</td>\n",
       "      <td>0</td>\n",
       "      <td>0</td>\n",
       "      <td>1</td>\n",
       "    </tr>\n",
       "    <tr>\n",
       "      <th>3</th>\n",
       "      <td>3</td>\n",
       "      <td>28</td>\n",
       "      <td>Private Sector/Self Employed</td>\n",
       "      <td>1</td>\n",
       "      <td>700000</td>\n",
       "      <td>3</td>\n",
       "      <td>1</td>\n",
       "      <td>0</td>\n",
       "      <td>0</td>\n",
       "      <td>0</td>\n",
       "    </tr>\n",
       "    <tr>\n",
       "      <th>4</th>\n",
       "      <td>4</td>\n",
       "      <td>28</td>\n",
       "      <td>Private Sector/Self Employed</td>\n",
       "      <td>1</td>\n",
       "      <td>700000</td>\n",
       "      <td>8</td>\n",
       "      <td>1</td>\n",
       "      <td>1</td>\n",
       "      <td>0</td>\n",
       "      <td>0</td>\n",
       "    </tr>\n",
       "  </tbody>\n",
       "</table>\n",
       "</div>"
      ],
      "text/plain": [
       "   Unnamed: 0  Age               Employment Type  GraduateOrNot  AnnualIncome  \\\n",
       "0           0   31             Government Sector              1        400000   \n",
       "1           1   31  Private Sector/Self Employed              1       1250000   \n",
       "2           2   34  Private Sector/Self Employed              1        500000   \n",
       "3           3   28  Private Sector/Self Employed              1        700000   \n",
       "4           4   28  Private Sector/Self Employed              1        700000   \n",
       "\n",
       "   FamilyMembers  ChronicDiseases  FrequentFlyer  EverTravelledAbroad  \\\n",
       "0              6                1              0                    0   \n",
       "1              7                0              0                    0   \n",
       "2              4                1              0                    0   \n",
       "3              3                1              0                    0   \n",
       "4              8                1              1                    0   \n",
       "\n",
       "   TravelInsurance  \n",
       "0                0  \n",
       "1                0  \n",
       "2                1  \n",
       "3                0  \n",
       "4                0  "
      ]
     },
     "execution_count": 16,
     "metadata": {},
     "output_type": "execute_result"
    }
   ],
   "source": [
    "# Mengubah kolom boolean ke numerical\n",
    "\n",
    "def convert_yesno_to_binary(x):\n",
    "    if x == \"Yes\":\n",
    "        return 1\n",
    "    else:\n",
    "        return 0\n",
    "\n",
    "df['GraduateOrNot'] = df['GraduateOrNot'].apply(convert_yesno_to_binary)\n",
    "df['FrequentFlyer'] = df['FrequentFlyer'].apply(convert_yesno_to_binary)\n",
    "df['EverTravelledAbroad'] = df['EverTravelledAbroad'].apply(convert_yesno_to_binary)\n",
    "\n",
    "df.head()"
   ]
  },
  {
   "cell_type": "code",
   "execution_count": 17,
   "metadata": {
    "colab": {
     "base_uri": "https://localhost:8080/",
     "height": 1000
    },
    "id": "i9lzU1jETe70",
    "outputId": "f0aff88a-a21f-4a69-8902-8c1b8d1cdb78"
   },
   "outputs": [
    {
     "ename": "AttributeError",
     "evalue": "'Index' object has no attribute 'corr'",
     "output_type": "error",
     "traceback": [
      "\u001b[1;31m---------------------------------------------------------------------------\u001b[0m",
      "\u001b[1;31mAttributeError\u001b[0m                            Traceback (most recent call last)",
      "Cell \u001b[1;32mIn[17], line 3\u001b[0m\n\u001b[0;32m      1\u001b[0m \u001b[38;5;66;03m# A. Korelasi antara masing-masing feature dan label\u001b[39;00m\n\u001b[0;32m      2\u001b[0m plt\u001b[38;5;241m.\u001b[39mfigure(figsize\u001b[38;5;241m=\u001b[39m(\u001b[38;5;241m12\u001b[39m, \u001b[38;5;241m8\u001b[39m))\n\u001b[1;32m----> 3\u001b[0m correlation_matrix \u001b[38;5;241m=\u001b[39m \u001b[43mnum\u001b[49m\u001b[38;5;241;43m.\u001b[39;49m\u001b[43mcorr\u001b[49m()\n\u001b[0;32m      4\u001b[0m sns\u001b[38;5;241m.\u001b[39mheatmap(correlation_matrix, annot\u001b[38;5;241m=\u001b[39m\u001b[38;5;28;01mTrue\u001b[39;00m, cmap\u001b[38;5;241m=\u001b[39m\u001b[38;5;124m'\u001b[39m\u001b[38;5;124mcoolwarm\u001b[39m\u001b[38;5;124m'\u001b[39m, fmt\u001b[38;5;241m=\u001b[39m\u001b[38;5;124m\"\u001b[39m\u001b[38;5;124m.2f\u001b[39m\u001b[38;5;124m\"\u001b[39m)\n\u001b[0;32m      5\u001b[0m plt\u001b[38;5;241m.\u001b[39mtitle(\u001b[38;5;124m'\u001b[39m\u001b[38;5;124mCorrelation Heatmap between Features and Target\u001b[39m\u001b[38;5;124m'\u001b[39m)\n",
      "\u001b[1;31mAttributeError\u001b[0m: 'Index' object has no attribute 'corr'"
     ]
    },
    {
     "data": {
      "text/plain": [
       "<Figure size 1200x800 with 0 Axes>"
      ]
     },
     "metadata": {},
     "output_type": "display_data"
    }
   ],
   "source": [
    "# A. Korelasi antara masing-masing feature dan label\n",
    "plt.figure(figsize=(12, 8))\n",
    "correlation_matrix = num.corr()\n",
    "sns.heatmap(correlation_matrix, annot=True, cmap='coolwarm', fmt=\".2f\")\n",
    "plt.title('Correlation Heatmap between Features and Target')\n",
    "plt.show()\n",
    "\n",
    "# B. Korelasi antar-feature\n",
    "plt.figure(figsize=(15, 10))\n",
    "sns.pairplot(df, hue='TravelInsurance', palette={0: 'pink', 1: 'purple'})\n",
    "plt.suptitle('Pair Plot of Features by Travel Insurance', y=1.02)\n",
    "plt.show()"
   ]
  },
  {
   "cell_type": "code",
   "execution_count": null,
   "metadata": {
    "colab": {
     "base_uri": "https://localhost:8080/",
     "height": 407
    },
    "id": "dZa_jHZzWpV9",
    "outputId": "6470f1e5-d810-4d58-a227-b02f86ea5551"
   },
   "outputs": [],
   "source": [
    "# Grafik antara Employment Type dengan target\n",
    "plt.figure(figsize=(6,4))\n",
    "sns.countplot(x='Employment Type', hue='TravelInsurance', data=df, palette=\"hls\")\n",
    "\n",
    "plt.title('Majority of customers who bought travel insurance work in Private Sector/Self Employed',color='cornflowerblue',fontsize=10,fontweight='bold')\n",
    "plt.ylabel('Total Unique Customer', fontsize=9) # y axis label\n",
    "plt.xlabel('Employment Type', fontsize=9) # x axis label\n",
    "plt.tick_params(axis = 'both', which = 'major', labelsize = 8);\n",
    "\n",
    "plt.tight_layout()"
   ]
  },
  {
   "cell_type": "code",
   "execution_count": null,
   "metadata": {
    "colab": {
     "base_uri": "https://localhost:8080/",
     "height": 407
    },
    "id": "3AXsy6T4Wzju",
    "outputId": "015285dc-070a-4c83-a575-71d4b4ce1565"
   },
   "outputs": [],
   "source": [
    "# Grafik antara Employment Type dengan EverTravelledAbroad\n",
    "plt.figure(figsize=(6,4))\n",
    "sns.countplot(x='Employment Type', hue='EverTravelledAbroad', data=df, palette=\"hls\")\n",
    "\n",
    "plt.title('Customers who work in Private Sector/Self Employed often travel abroad',color='cornflowerblue',fontsize=10,fontweight='bold')\n",
    "plt.ylabel('Total Unique Customer', fontsize=9) # y axis label\n",
    "plt.xlabel('Employment Type', fontsize=9) # x axis label\n",
    "plt.tick_params(axis = 'both', which = 'major', labelsize = 8);\n",
    "\n",
    "plt.tight_layout()"
   ]
  },
  {
   "cell_type": "code",
   "execution_count": null,
   "metadata": {},
   "outputs": [],
   "source": [
    "# Grafik antara Employment Type dengan FrequentFlyer\n",
    "plt.figure(figsize=(6,4))\n",
    "sns.countplot(x='Employment Type', hue='FrequentFlyer', data=df, palette=\"hls\")\n",
    "\n",
    "plt.title('Customers who work in Private Sector/Self Employed often fly',color='cornflowerblue',fontsize=10,fontweight='bold')\n",
    "plt.ylabel('Total Unique Customer', fontsize=9) # y axis label\n",
    "plt.xlabel('Employment Type', fontsize=9) # x axis label\n",
    "plt.tick_params(axis = 'both', which = 'major', labelsize = 8);\n",
    "\n",
    "plt.tight_layout()"
   ]
  },
  {
   "cell_type": "code",
   "execution_count": null,
   "metadata": {
    "colab": {
     "base_uri": "https://localhost:8080/",
     "height": 578
    },
    "id": "QrfKPJBnW6c6",
    "outputId": "e563f489-6cd5-4a15-ba5f-4ca332b6151d"
   },
   "outputs": [],
   "source": [
    "# Grafik antara Employment Type dengan Annual Income\n",
    "fig, ax = plt.subplots(figsize=(8,6))\n",
    "\n",
    "sns.histplot(df[df['Employment Type'] == 'Government Sector']['AnnualIncome'], color= 'navy', label= 'Government Sector', multiple=\"stack\", kde=True)\n",
    "sns.histplot(df[df['Employment Type'] == 'Private Sector/Self Employed']['AnnualIncome'], color= 'orange', label= 'Private Sector', multiple=\"stack\", kde=True)\n",
    "\n",
    "plt.title('There are more Private Sector workers who have higher income',color='cornflowerblue',fontsize=10,fontweight='bold')\n",
    "plt.ylabel('Total Unique Customer', fontsize=9) # y axis label\n",
    "plt.xlabel('Annual Income', fontsize=9) # x axis label\n",
    "plt.legend()"
   ]
  },
  {
   "cell_type": "code",
   "execution_count": null,
   "metadata": {
    "colab": {
     "base_uri": "https://localhost:8080/",
     "height": 112
    },
    "id": "tgCMiAIcXBpE",
    "outputId": "dd5a25e5-35f5-4eab-d571-2a8c4daf7265"
   },
   "outputs": [],
   "source": [
    "# Rata-rata Annual Income tiap Employment Type\n",
    "df_employment = df.groupby('Employment Type')['AnnualIncome'].median().reset_index()\n",
    "df_employment.rename(columns = {'AnnualIncome' : 'Average Annual Income'}, inplace=True)\n",
    "df_employment"
   ]
  },
  {
   "cell_type": "markdown",
   "metadata": {
    "id": "evgJRRrNQcSc"
   },
   "source": [
    "### Analisis Multivariat Insight\n",
    "\n",
    "A. Korelasi antara Feature Numerik dan Target ('TravelInsurance'):\n",
    "\n",
    "* Target memiliki korelasi positif paling tinggi dengan EverTravelledAbroad (0.43). Pelanggan yang pernah keluar negeri akan cenderung membeli travel insurance.\n",
    "* Korelasi antara target dengan Annual Income cukup tinggi (0.4). Semakin tinggi pendapatan pelanggan, semakin besar kemungkinan pelanggan membeli travel insurance.\n",
    "* Potensi pelanggan yang FrequentFlyer untuk untuk membeli Travel Insurance cukup potensial (0,23). Semakin sering berpergian pelanggan akan lebih memiliki kesadaran pentingnya memiliki sebuah Travel Insurance.\n",
    "\n",
    "B. Korelasi antar Feature:\n",
    "\n",
    "* Korelasi antara Annual Income dengan EverTravelledAbroad cukup tinggi (0.49), menunjukkan bahwa pelanggan dengan pendapatan yang tinggi pernah bepergian keluar negeri.\n",
    "* Korelasi antara Annual Income dengan FrequentFlyer cukup tinggi (0.35), menunjukkan bahwa pelanggan dengan pendapatan yang tinggi sering bepergian dengan pesawat.\n",
    "\n",
    "C. Korelasi antara Feature Kategorik dan Target ('TravelInsurance'):\n",
    "Pelanggan yang bekerja di bidang swasta dan wiraswasta cenderung membeli travel insurance.\n",
    "\n",
    "D. Korelasi antara Feature Kategorik dan Feature lainnya:\n",
    "* Pelanggan yang pernah keluar negeri didominasi oleh karyawan swasta dan wiraswasta.\n",
    "* Pelanggan yang bekerja di pemerintah kebanyakan memiliki pendapatan di bawah 400,000, semakin tinggi pendapatan semakin sedikit jumlah orangnya. Dapat dilihat juga rata-rata pendapatannya di bawah karyawan yang bekerja di sektor swasta. Sedangkan Pelanggan yang bekerja di sektor swasta memiliki rata-rata pendapatan lebih tinggi, dengan jumlah karyawan yang memiliki pendapatan di atas 450,000 lebih banyak."
   ]
  },
  {
   "cell_type": "markdown",
   "metadata": {
    "id": "cGbV_6HHSb6q"
   },
   "source": [
    "# Business Insight\n",
    "\n",
    "* Fokuskan strategi marketing pada pelanggan yang pernah bepergian ke luar negeri.\n",
    "* Lakukan segmentasi pelanggan berdasarkan kategori pendapatan tahunan. Misalnya, tentukan rentang pendapatan rendah, menengah, dan tinggi. Sesuaikan penawaran dan premi travel insurance sesuai dengan segmentasi ini. Pelanggan dengan pendapatan lebih tinggi mungkin lebih bersedia untuk membayar premi yang lebih tinggi untuk manfaat tambahan. Berikan diskon atau insentif khusus kepada pelanggan dengan pendapatan tinggi.\n",
    "* Tawarkan paket asuransi perjalanan premium dengan manfaat tambahan kepada pelanggan dengan pendapatan tinggi yang memiliki riwayat perjalanan internasional ('EverTravelledAbroad' = 'Yes') dan sering bepergian dengan pesawat ('FrequentFlyer' = 'Yes').\n",
    "* Fokuskan strategi marketing kepada pelanggan yang bekerja di sektor swasta dan wiraswasta. Perusahaan dapat melakukan hal ini dengan memanfaatkan media-media yang diminati oleh segmen pasar tersebut, seperti media sosial atau komunitas online.\n",
    "* Perusahaan dapat menawarkan paket asuransi perjalanan terbaru dengan harga yang lebih kompetitif untuk menarik minat pelanggan yang bekerja di sektor pemerintah."
   ]
  },
  {
   "cell_type": "markdown",
   "metadata": {
    "id": "aY81EJ4qTeGh"
   },
   "source": [
    "# Data Cleansing"
   ]
  },
  {
   "cell_type": "markdown",
   "metadata": {
    "id": "-C9gtQyYTvM2"
   },
   "source": [
    "### Handling Missing Value"
   ]
  },
  {
   "cell_type": "code",
   "execution_count": null,
   "metadata": {
    "colab": {
     "base_uri": "https://localhost:8080/"
    },
    "id": "BZyywJro7ux3",
    "outputId": "fffedbd1-e6f0-4afb-f903-8b2815ed8385"
   },
   "outputs": [],
   "source": [
    "# Cek nilai yang hilang\n",
    "df.isnull().sum()"
   ]
  },
  {
   "cell_type": "markdown",
   "metadata": {
    "id": "fBLAvw7mTxoj"
   },
   "source": [
    "### Handling Duplicated Data"
   ]
  },
  {
   "cell_type": "code",
   "execution_count": null,
   "metadata": {
    "colab": {
     "base_uri": "https://localhost:8080/"
    },
    "id": "bHcEDJeY_XOm",
    "outputId": "e429d00b-1f15-4bbf-b1b9-942d1b39623c"
   },
   "outputs": [],
   "source": [
    "# Cek duplikasi\n",
    "df.duplicated().sum()"
   ]
  },
  {
   "cell_type": "markdown",
   "metadata": {
    "id": "_hWduuZ2T4YZ"
   },
   "source": [
    "### Handling Outliers"
   ]
  },
  {
   "cell_type": "code",
   "execution_count": null,
   "metadata": {},
   "outputs": [],
   "source": [
    "numerical = df.select_dtypes(exclude='object')\n",
    "categorical = df.select_dtypes(include='object')\n",
    "num = numerical.columns\n",
    "cat = categorical.columns"
   ]
  },
  {
   "cell_type": "code",
   "execution_count": null,
   "metadata": {
    "colab": {
     "base_uri": "https://localhost:8080/"
    },
    "id": "81ghX_8anmlB",
    "outputId": "64dcaaa9-25d2-4003-d299-2333d61e96fc"
   },
   "outputs": [],
   "source": [
    "# Definisikan fungsi untuk mengetahui outlier dengan Z-score\n",
    "def detect_outliers_z_score(data, threshold=3):\n",
    "    z_scores = np.abs((numerical - numerical.mean()) / numerical.std())\n",
    "    return z_scores > threshold\n",
    "\n",
    "# Aplikasi penilaian outlier\n",
    "outliers_z_score = detect_outliers_z_score(numerical)\n",
    "\n",
    "# Menampilkan outlier dengan mendeteksi Z-score\n",
    "print(\"Outliers detected by Z-score:\")\n",
    "print(outliers_z_score.any())"
   ]
  },
  {
   "cell_type": "markdown",
   "metadata": {
    "id": "1mmjz8HZXWyq"
   },
   "source": [
    "Setelah melihat Nilai Z-score tidak didapatkan Outlier"
   ]
  },
  {
   "cell_type": "markdown",
   "metadata": {
    "id": "ONJbwfC8T--Y"
   },
   "source": [
    "### Feature Transformation\n"
   ]
  },
  {
   "cell_type": "code",
   "execution_count": null,
   "metadata": {
    "colab": {
     "base_uri": "https://localhost:8080/",
     "height": 379
    },
    "id": "KS7EY20-8lQc",
    "outputId": "910769a8-1a49-44cd-bac5-4c64e8a094f9"
   },
   "outputs": [],
   "source": [
    "# Drop kolom yang tidak diperlukan 'unnamed:0'\n",
    "\n",
    "df2 = df.copy()\n",
    "df2 = df2.drop('Unnamed: 0', axis=1)\n",
    "\n",
    "df2.head()"
   ]
  },
  {
   "cell_type": "markdown",
   "metadata": {
    "id": "c9hkVMhqUGYA"
   },
   "source": [
    "### Feature encoding\n"
   ]
  },
  {
   "cell_type": "code",
   "execution_count": null,
   "metadata": {
    "id": "QD43ZekUCspg"
   },
   "outputs": [],
   "source": [
    "from sklearn.preprocessing import LabelEncoder\n",
    "\n",
    "le = LabelEncoder()\n",
    "df2['GraduateOrNot']=le.fit_transform(df2['GraduateOrNot'])"
   ]
  },
  {
   "cell_type": "code",
   "execution_count": null,
   "metadata": {
    "id": "YlzXCyKuYDe0"
   },
   "outputs": [],
   "source": [
    "le = LabelEncoder()\n",
    "df2['FrequentFlyer']=le.fit_transform(df2['FrequentFlyer'])"
   ]
  },
  {
   "cell_type": "code",
   "execution_count": null,
   "metadata": {
    "id": "JMDDzwoYYD0d"
   },
   "outputs": [],
   "source": [
    "le = LabelEncoder()\n",
    "df2['EverTravelledAbroad']=le.fit_transform(df2['EverTravelledAbroad'])"
   ]
  },
  {
   "cell_type": "code",
   "execution_count": null,
   "metadata": {
    "id": "MuDtUqUfV0Mn"
   },
   "outputs": [],
   "source": [
    "df2['Employment Type'] = df2['Employment Type'].replace({'Private Sector/Self Employed': 0 , 'Government Sector': 1})"
   ]
  },
  {
   "cell_type": "code",
   "execution_count": null,
   "metadata": {
    "colab": {
     "base_uri": "https://localhost:8080/",
     "height": 160
    },
    "id": "nn5ASo0iYNYG",
    "outputId": "a9725eb3-89ba-46c6-cacd-9b3fa5ef44de"
   },
   "outputs": [],
   "source": [
    "df2.head(3)"
   ]
  },
  {
   "cell_type": "markdown",
   "metadata": {
    "id": "LFJS04joUUJb"
   },
   "source": [
    "## Feature Engineering"
   ]
  },
  {
   "cell_type": "markdown",
   "metadata": {
    "id": "TFr0iStcUZdf"
   },
   "source": [
    "### Feature Selection"
   ]
  },
  {
   "cell_type": "code",
   "execution_count": null,
   "metadata": {
    "id": "NSC-On9SUyKG"
   },
   "outputs": [],
   "source": [
    "from sklearn.feature_selection import RFE\n",
    "from sklearn.linear_model import LogisticRegression"
   ]
  },
  {
   "cell_type": "code",
   "execution_count": null,
   "metadata": {
    "id": "Aq2eq2DzegdY"
   },
   "outputs": [],
   "source": [
    "# Memisahkan fitur dan target\n",
    "X = df2.drop('TravelInsurance', axis=1)\n",
    "y = df2['TravelInsurance']"
   ]
  },
  {
   "cell_type": "code",
   "execution_count": null,
   "metadata": {
    "id": "aC_WuwWdepAv"
   },
   "outputs": [],
   "source": [
    "# Inisialisasi model untuk RFE\n",
    "model = LogisticRegression()"
   ]
  },
  {
   "cell_type": "code",
   "execution_count": null,
   "metadata": {
    "id": "EDKWlQVNgCRO"
   },
   "outputs": [],
   "source": [
    "# Inisialisasi RFE dengan model dan jumlah fitur yang ingin dipilih\n",
    "rfe = RFE(model, n_features_to_select=8)"
   ]
  },
  {
   "cell_type": "code",
   "execution_count": null,
   "metadata": {
    "colab": {
     "base_uri": "https://localhost:8080/",
     "height": 116
    },
    "id": "m6jLfGcigIOz",
    "outputId": "249197fd-fa39-43bd-cb3e-c81444ce34b8"
   },
   "outputs": [],
   "source": [
    "# Melatih RFE pada data\n",
    "rfe.fit(X, y)"
   ]
  },
  {
   "cell_type": "code",
   "execution_count": null,
   "metadata": {
    "id": "i6BSSjc6gNT1"
   },
   "outputs": [],
   "source": [
    "# Mengambil indeks fitur terpilih\n",
    "selected_features = rfe.support_"
   ]
  },
  {
   "cell_type": "code",
   "execution_count": null,
   "metadata": {
    "id": "cDoVdw7ZgRIC"
   },
   "outputs": [],
   "source": [
    "# Mengambil nama fitur terpilih\n",
    "selected_feature_names = X.columns[selected_features]"
   ]
  },
  {
   "cell_type": "code",
   "execution_count": null,
   "metadata": {
    "colab": {
     "base_uri": "https://localhost:8080/"
    },
    "id": "vQ0wg8bmgUO-",
    "outputId": "98274c01-a442-46c9-e2ec-edc1c0171bd1"
   },
   "outputs": [],
   "source": [
    "# Menampilkan fitur terpilih\n",
    "print(\"Selected Features:\")\n",
    "print(selected_feature_names)"
   ]
  },
  {
   "cell_type": "markdown",
   "metadata": {
    "id": "2DxsSv6kUd0O"
   },
   "source": [
    "### Feature Extraction"
   ]
  },
  {
   "cell_type": "markdown",
   "metadata": {
    "id": "fhMX4KLelGDG"
   },
   "source": [
    "Travel Experience"
   ]
  },
  {
   "cell_type": "code",
   "execution_count": null,
   "metadata": {
    "colab": {
     "base_uri": "https://localhost:8080/",
     "height": 243
    },
    "id": "aDaV02M-lO-F",
    "outputId": "9d24bd40-b4f7-4d46-8be4-c7402973cbb0"
   },
   "outputs": [],
   "source": [
    "# Create column TravelExperience based on FrequentFlyer and EverTravelledAbroad\n",
    "\n",
    "df2['TravelExperience'] = np.where((df2['FrequentFlyer'] == 1) & (df2['EverTravelledAbroad'] == 1), 3,\n",
    "                                 np.where((df2['FrequentFlyer'] == 0) & (df2['EverTravelledAbroad'] == 1), 2,\n",
    "                                          np.where((df2['FrequentFlyer'] == 1) & (df2['EverTravelledAbroad'] == 0), 1,\n",
    "                                        0))\n",
    "                                 )\n",
    "df2.head(5)"
   ]
  },
  {
   "cell_type": "code",
   "execution_count": null,
   "metadata": {
    "colab": {
     "base_uri": "https://localhost:8080/"
    },
    "id": "-1c1OuFZsRfQ",
    "outputId": "15d434f3-da7c-4553-b17e-936405822a8d"
   },
   "outputs": [],
   "source": [
    "df2['TravelExperience'].value_counts()"
   ]
  },
  {
   "cell_type": "code",
   "execution_count": null,
   "metadata": {
    "colab": {
     "base_uri": "https://localhost:8080/",
     "height": 355
    },
    "id": "Q-dLG6w2njyG",
    "outputId": "145a24f6-232f-4272-c81e-4d4a0d750772"
   },
   "outputs": [],
   "source": [
    "# drop unnecessary features\n",
    "df2 = df2.drop(['FrequentFlyer', 'EverTravelledAbroad'], axis=1)"
   ]
  },
  {
   "cell_type": "markdown",
   "metadata": {
    "id": "3GFRoVB6qybg"
   },
   "source": [
    "- TravelExperience bisa dijadikan sebagai feature baru untuk menggantikan FrequentFlyer dan EverTravelledAbroad karena korelasinya dengan target lebih tinggi, dan lebih sederhana karena hanya butuh 1 kolom saja dibandingkan 2 kolom."
   ]
  },
  {
   "cell_type": "markdown",
   "metadata": {
    "id": "XqNTzs27Q5uz"
   },
   "source": [
    "# Standarization"
   ]
  },
  {
   "cell_type": "code",
   "execution_count": null,
   "metadata": {
    "colab": {
     "base_uri": "https://localhost:8080/",
     "height": 300
    },
    "id": "0I1UZxTWX_ZL",
    "outputId": "096aa6ff-b3fe-41d0-8d2c-bd7044f17d44"
   },
   "outputs": [],
   "source": [
    "from sklearn.preprocessing import StandardScaler\n",
    "\n",
    "feature = ['Age','Employment Type','GraduateOrNot','AnnualIncome','ChronicDiseases','TravelExperience','FamilyMembers']\n",
    "X = df_new[feature].values\n",
    "\n",
    "X_std = StandardScaler().fit_transform(X)\n",
    "\n",
    "df_std = pd.DataFrame(data = X_std, columns = feature)\n",
    "df_std.describe()"
   ]
  },
  {
   "cell_type": "code",
   "execution_count": null,
   "metadata": {
    "colab": {
     "base_uri": "https://localhost:8080/",
     "height": 206
    },
    "id": "I0R2Bs8dZttP",
    "outputId": "e240061f-7d39-4a76-e1d9-c85411a2d3fa"
   },
   "outputs": [],
   "source": [
    "df_std.head()"
   ]
  },
  {
   "cell_type": "markdown",
   "metadata": {
    "id": "62FoW2pnRG30"
   },
   "source": [
    "# Modeling"
   ]
  },
  {
   "cell_type": "code",
   "execution_count": null,
   "metadata": {
    "id": "zdKvSwP7bkyD"
   },
   "outputs": [],
   "source": [
    "# Elbow Method\n",
    "from sklearn.cluster import KMeans\n",
    "\n",
    "inertia = []\n",
    "\n",
    "for i in range(1,11):\n",
    "  kmeans = KMeans(n_clusters=i, random_state=0)\n",
    "  kmeans.fit(df_std)\n",
    "  inertia.append(kmeans.inertia_)"
   ]
  },
  {
   "cell_type": "code",
   "execution_count": null,
   "metadata": {
    "colab": {
     "base_uri": "https://localhost:8080/",
     "height": 617
    },
    "id": "mho_79C2kl1t",
    "outputId": "4571a673-2116-45e1-ca55-112c1e1d805b"
   },
   "outputs": [],
   "source": [
    "plt.figure(figsize=(6,4))\n",
    "sns.lineplot(x= range(1,11), y=inertia, color='plum', linewidth=4)\n",
    "sns.scatterplot(x= range(1,11), y=inertia, color='orange', s=200)"
   ]
  },
  {
   "cell_type": "markdown",
   "metadata": {},
   "source": [
    "Jumlah cluster optimal = 4"
   ]
  },
  {
   "cell_type": "code",
   "execution_count": null,
   "metadata": {},
   "outputs": [],
   "source": [
    "# Silhouette Score\n",
    "from sklearn.metrics import silhouette_score, silhouette_samples"
   ]
  },
  {
   "cell_type": "code",
   "execution_count": 67,
   "metadata": {},
   "outputs": [],
   "source": [
    "range_n_clusters = list(range(2,11))\n",
    "\n",
    "arr_silhouette_score_euclidean = []\n",
    "for i in range_n_clusters:\n",
    "    kmeans = KMeans(n_clusters=i).fit(df_std)\n",
    "    preds = kmeans.predict(df_std)\n",
    "\n",
    "    score_euclidean = silhouette_score(df_std, preds, metric='euclidean')\n",
    "    arr_silhouette_score_euclidean.append(score_euclidean)"
   ]
  },
  {
   "cell_type": "markdown",
   "metadata": {
    "id": "L8awJhBhF5v7"
   },
   "source": [
    "### K-Means Clustering"
   ]
  },
  {
   "cell_type": "code",
   "execution_count": 71,
   "metadata": {
    "id": "QPwY6NgRbzCO"
   },
   "outputs": [],
   "source": [
    "from sklearn.cluster import KMeans\n",
    "kmeans = KMeans(n_clusters=4, random_state=0)\n",
    "kmeans.fit(X_std)\n",
    "\n",
    "# add column clusters to standardize data\n",
    "df_std['clusters'] = kmeans.labels_\n",
    "\n",
    "# add column clusters to raw data\n",
    "df_new['clusters'] = kmeans.labels_"
   ]
  },
  {
   "cell_type": "code",
   "execution_count": 72,
   "metadata": {
    "colab": {
     "base_uri": "https://localhost:8080/",
     "height": 206
    },
    "id": "BOlNNs8Oj5kv",
    "outputId": "bda4a668-9f0c-4bbd-e571-54f57af4a541"
   },
   "outputs": [
    {
     "data": {
      "text/html": [
       "<div>\n",
       "<style scoped>\n",
       "    .dataframe tbody tr th:only-of-type {\n",
       "        vertical-align: middle;\n",
       "    }\n",
       "\n",
       "    .dataframe tbody tr th {\n",
       "        vertical-align: top;\n",
       "    }\n",
       "\n",
       "    .dataframe thead th {\n",
       "        text-align: right;\n",
       "    }\n",
       "</style>\n",
       "<table border=\"1\" class=\"dataframe\">\n",
       "  <thead>\n",
       "    <tr style=\"text-align: right;\">\n",
       "      <th></th>\n",
       "      <th>Age</th>\n",
       "      <th>Employment Type</th>\n",
       "      <th>GraduateOrNot</th>\n",
       "      <th>AnnualIncome</th>\n",
       "      <th>FamilyMembers</th>\n",
       "      <th>ChronicDiseases</th>\n",
       "      <th>TravelInsurance</th>\n",
       "      <th>TravelExperience</th>\n",
       "      <th>clusters</th>\n",
       "    </tr>\n",
       "  </thead>\n",
       "  <tbody>\n",
       "    <tr>\n",
       "      <th>270</th>\n",
       "      <td>34</td>\n",
       "      <td>1</td>\n",
       "      <td>1</td>\n",
       "      <td>1300000</td>\n",
       "      <td>6</td>\n",
       "      <td>0</td>\n",
       "      <td>1</td>\n",
       "      <td>2</td>\n",
       "      <td>2</td>\n",
       "    </tr>\n",
       "    <tr>\n",
       "      <th>347</th>\n",
       "      <td>34</td>\n",
       "      <td>0</td>\n",
       "      <td>1</td>\n",
       "      <td>1300000</td>\n",
       "      <td>6</td>\n",
       "      <td>0</td>\n",
       "      <td>0</td>\n",
       "      <td>1</td>\n",
       "      <td>1</td>\n",
       "    </tr>\n",
       "    <tr>\n",
       "      <th>1251</th>\n",
       "      <td>28</td>\n",
       "      <td>0</td>\n",
       "      <td>1</td>\n",
       "      <td>500000</td>\n",
       "      <td>5</td>\n",
       "      <td>1</td>\n",
       "      <td>1</td>\n",
       "      <td>0</td>\n",
       "      <td>1</td>\n",
       "    </tr>\n",
       "    <tr>\n",
       "      <th>1741</th>\n",
       "      <td>28</td>\n",
       "      <td>0</td>\n",
       "      <td>1</td>\n",
       "      <td>800000</td>\n",
       "      <td>3</td>\n",
       "      <td>0</td>\n",
       "      <td>0</td>\n",
       "      <td>0</td>\n",
       "      <td>1</td>\n",
       "    </tr>\n",
       "    <tr>\n",
       "      <th>803</th>\n",
       "      <td>29</td>\n",
       "      <td>0</td>\n",
       "      <td>1</td>\n",
       "      <td>1050000</td>\n",
       "      <td>7</td>\n",
       "      <td>1</td>\n",
       "      <td>0</td>\n",
       "      <td>0</td>\n",
       "      <td>1</td>\n",
       "    </tr>\n",
       "  </tbody>\n",
       "</table>\n",
       "</div>"
      ],
      "text/plain": [
       "      Age  Employment Type  GraduateOrNot  AnnualIncome  FamilyMembers  \\\n",
       "270    34                1              1       1300000              6   \n",
       "347    34                0              1       1300000              6   \n",
       "1251   28                0              1        500000              5   \n",
       "1741   28                0              1        800000              3   \n",
       "803    29                0              1       1050000              7   \n",
       "\n",
       "      ChronicDiseases  TravelInsurance  TravelExperience  clusters  \n",
       "270                 0                1                 2         2  \n",
       "347                 0                0                 1         1  \n",
       "1251                1                1                 0         1  \n",
       "1741                0                0                 0         1  \n",
       "803                 1                0                 0         1  "
      ]
     },
     "execution_count": 72,
     "metadata": {},
     "output_type": "execute_result"
    }
   ],
   "source": [
    "df_new.sample(5)"
   ]
  },
  {
   "cell_type": "code",
   "execution_count": 73,
   "metadata": {
    "colab": {
     "base_uri": "https://localhost:8080/",
     "height": 257
    },
    "id": "M-owvzjakOzt",
    "outputId": "628639d7-3e2e-4826-e9d1-f92636fae295"
   },
   "outputs": [
    {
     "data": {
      "text/html": [
       "<div>\n",
       "<style scoped>\n",
       "    .dataframe tbody tr th:only-of-type {\n",
       "        vertical-align: middle;\n",
       "    }\n",
       "\n",
       "    .dataframe tbody tr th {\n",
       "        vertical-align: top;\n",
       "    }\n",
       "\n",
       "    .dataframe thead tr th {\n",
       "        text-align: left;\n",
       "    }\n",
       "\n",
       "    .dataframe thead tr:last-of-type th {\n",
       "        text-align: right;\n",
       "    }\n",
       "</style>\n",
       "<table border=\"1\" class=\"dataframe\">\n",
       "  <thead>\n",
       "    <tr>\n",
       "      <th></th>\n",
       "      <th>Age</th>\n",
       "      <th>Employment Type</th>\n",
       "      <th>GraduateOrNot</th>\n",
       "      <th>AnnualIncome</th>\n",
       "      <th>FamilyMembers</th>\n",
       "      <th>ChronicDiseases</th>\n",
       "      <th>TravelInsurance</th>\n",
       "      <th>TravelExperience</th>\n",
       "    </tr>\n",
       "    <tr>\n",
       "      <th></th>\n",
       "      <th>median</th>\n",
       "      <th>median</th>\n",
       "      <th>median</th>\n",
       "      <th>median</th>\n",
       "      <th>median</th>\n",
       "      <th>median</th>\n",
       "      <th>median</th>\n",
       "      <th>median</th>\n",
       "    </tr>\n",
       "    <tr>\n",
       "      <th>clusters</th>\n",
       "      <th></th>\n",
       "      <th></th>\n",
       "      <th></th>\n",
       "      <th></th>\n",
       "      <th></th>\n",
       "      <th></th>\n",
       "      <th></th>\n",
       "      <th></th>\n",
       "    </tr>\n",
       "  </thead>\n",
       "  <tbody>\n",
       "    <tr>\n",
       "      <th>0</th>\n",
       "      <td>30.0</td>\n",
       "      <td>0.0</td>\n",
       "      <td>0.0</td>\n",
       "      <td>800000.0</td>\n",
       "      <td>4.0</td>\n",
       "      <td>0.0</td>\n",
       "      <td>0.0</td>\n",
       "      <td>0.0</td>\n",
       "    </tr>\n",
       "    <tr>\n",
       "      <th>1</th>\n",
       "      <td>29.0</td>\n",
       "      <td>0.0</td>\n",
       "      <td>1.0</td>\n",
       "      <td>900000.0</td>\n",
       "      <td>5.0</td>\n",
       "      <td>0.0</td>\n",
       "      <td>0.0</td>\n",
       "      <td>0.0</td>\n",
       "    </tr>\n",
       "    <tr>\n",
       "      <th>2</th>\n",
       "      <td>29.0</td>\n",
       "      <td>0.0</td>\n",
       "      <td>1.0</td>\n",
       "      <td>1400000.0</td>\n",
       "      <td>4.0</td>\n",
       "      <td>0.0</td>\n",
       "      <td>1.0</td>\n",
       "      <td>2.0</td>\n",
       "    </tr>\n",
       "    <tr>\n",
       "      <th>3</th>\n",
       "      <td>31.0</td>\n",
       "      <td>1.0</td>\n",
       "      <td>1.0</td>\n",
       "      <td>750000.0</td>\n",
       "      <td>5.0</td>\n",
       "      <td>0.0</td>\n",
       "      <td>0.0</td>\n",
       "      <td>0.0</td>\n",
       "    </tr>\n",
       "  </tbody>\n",
       "</table>\n",
       "</div>"
      ],
      "text/plain": [
       "            Age Employment Type GraduateOrNot AnnualIncome FamilyMembers  \\\n",
       "         median          median        median       median        median   \n",
       "clusters                                                                   \n",
       "0          30.0             0.0           0.0     800000.0           4.0   \n",
       "1          29.0             0.0           1.0     900000.0           5.0   \n",
       "2          29.0             0.0           1.0    1400000.0           4.0   \n",
       "3          31.0             1.0           1.0     750000.0           5.0   \n",
       "\n",
       "         ChronicDiseases TravelInsurance TravelExperience  \n",
       "                  median          median           median  \n",
       "clusters                                                   \n",
       "0                    0.0             0.0              0.0  \n",
       "1                    0.0             0.0              0.0  \n",
       "2                    0.0             1.0              2.0  \n",
       "3                    0.0             0.0              0.0  "
      ]
     },
     "metadata": {},
     "output_type": "display_data"
    }
   ],
   "source": [
    "display(df_new.groupby('clusters').agg(['median']))"
   ]
  },
  {
   "cell_type": "code",
   "execution_count": 74,
   "metadata": {
    "colab": {
     "base_uri": "https://localhost:8080/"
    },
    "id": "vRRK4_4So4kF",
    "outputId": "ec5442fe-72e8-4b27-a475-b2e38b3f3283"
   },
   "outputs": [
    {
     "data": {
      "text/plain": [
       "clusters\n",
       "1    845\n",
       "3    502\n",
       "2    360\n",
       "0    280\n",
       "Name: count, dtype: int64"
      ]
     },
     "execution_count": 74,
     "metadata": {},
     "output_type": "execute_result"
    }
   ],
   "source": [
    "df_new['clusters'].value_counts()"
   ]
  },
  {
   "cell_type": "code",
   "execution_count": 75,
   "metadata": {},
   "outputs": [
    {
     "data": {
      "text/html": [
       "<div>\n",
       "<style scoped>\n",
       "    .dataframe tbody tr th:only-of-type {\n",
       "        vertical-align: middle;\n",
       "    }\n",
       "\n",
       "    .dataframe tbody tr th {\n",
       "        vertical-align: top;\n",
       "    }\n",
       "\n",
       "    .dataframe thead th {\n",
       "        text-align: right;\n",
       "    }\n",
       "</style>\n",
       "<table border=\"1\" class=\"dataframe\">\n",
       "  <thead>\n",
       "    <tr style=\"text-align: right;\">\n",
       "      <th></th>\n",
       "      <th>clusters</th>\n",
       "      <th>count</th>\n",
       "    </tr>\n",
       "  </thead>\n",
       "  <tbody>\n",
       "    <tr>\n",
       "      <th>0</th>\n",
       "      <td>0</td>\n",
       "      <td>86</td>\n",
       "    </tr>\n",
       "    <tr>\n",
       "      <th>1</th>\n",
       "      <td>1</td>\n",
       "      <td>199</td>\n",
       "    </tr>\n",
       "    <tr>\n",
       "      <th>2</th>\n",
       "      <td>2</td>\n",
       "      <td>304</td>\n",
       "    </tr>\n",
       "    <tr>\n",
       "      <th>3</th>\n",
       "      <td>3</td>\n",
       "      <td>121</td>\n",
       "    </tr>\n",
       "  </tbody>\n",
       "</table>\n",
       "</div>"
      ],
      "text/plain": [
       "   clusters  count\n",
       "0         0     86\n",
       "1         1    199\n",
       "2         2    304\n",
       "3         3    121"
      ]
     },
     "execution_count": 75,
     "metadata": {},
     "output_type": "execute_result"
    }
   ],
   "source": [
    "df_new_yes = df_new[df_new['TravelInsurance'] == 1]\n",
    "df_new_yes.groupby('clusters').size().reset_index(name='count')"
   ]
  },
  {
   "cell_type": "markdown",
   "metadata": {
    "id": "1_ZBPRCmEAYo"
   },
   "source": [
    "### Agglomerative Clustering"
   ]
  },
  {
   "cell_type": "code",
   "execution_count": 76,
   "metadata": {
    "id": "6BTlkM2ZpHmN"
   },
   "outputs": [],
   "source": [
    "df_std2 = df_std.copy()"
   ]
  },
  {
   "cell_type": "code",
   "execution_count": 77,
   "metadata": {
    "colab": {
     "base_uri": "https://localhost:8080/",
     "height": 206
    },
    "id": "CsZVBEqjFtjk",
    "outputId": "cf7cd0e1-00f6-4413-bdc1-11d714155df7"
   },
   "outputs": [
    {
     "data": {
      "text/html": [
       "<div>\n",
       "<style scoped>\n",
       "    .dataframe tbody tr th:only-of-type {\n",
       "        vertical-align: middle;\n",
       "    }\n",
       "\n",
       "    .dataframe tbody tr th {\n",
       "        vertical-align: top;\n",
       "    }\n",
       "\n",
       "    .dataframe thead th {\n",
       "        text-align: right;\n",
       "    }\n",
       "</style>\n",
       "<table border=\"1\" class=\"dataframe\">\n",
       "  <thead>\n",
       "    <tr style=\"text-align: right;\">\n",
       "      <th></th>\n",
       "      <th>Age</th>\n",
       "      <th>Employment Type</th>\n",
       "      <th>GraduateOrNot</th>\n",
       "      <th>AnnualIncome</th>\n",
       "      <th>ChronicDiseases</th>\n",
       "      <th>TravelExperience</th>\n",
       "      <th>FamilyMembers</th>\n",
       "      <th>clusters</th>\n",
       "    </tr>\n",
       "  </thead>\n",
       "  <tbody>\n",
       "    <tr>\n",
       "      <th>0</th>\n",
       "      <td>0.463430</td>\n",
       "      <td>1.576694</td>\n",
       "      <td>0.417552</td>\n",
       "      <td>-1.414061</td>\n",
       "      <td>1.612339</td>\n",
       "      <td>-0.603887</td>\n",
       "      <td>0.774964</td>\n",
       "      <td>3</td>\n",
       "    </tr>\n",
       "    <tr>\n",
       "      <th>1</th>\n",
       "      <td>0.463430</td>\n",
       "      <td>-0.634238</td>\n",
       "      <td>0.417552</td>\n",
       "      <td>0.842012</td>\n",
       "      <td>-0.620217</td>\n",
       "      <td>-0.603887</td>\n",
       "      <td>1.396373</td>\n",
       "      <td>1</td>\n",
       "    </tr>\n",
       "    <tr>\n",
       "      <th>2</th>\n",
       "      <td>1.493446</td>\n",
       "      <td>-0.634238</td>\n",
       "      <td>0.417552</td>\n",
       "      <td>-1.148641</td>\n",
       "      <td>1.612339</td>\n",
       "      <td>-0.603887</td>\n",
       "      <td>-0.467855</td>\n",
       "      <td>1</td>\n",
       "    </tr>\n",
       "    <tr>\n",
       "      <th>3</th>\n",
       "      <td>-0.566587</td>\n",
       "      <td>-0.634238</td>\n",
       "      <td>0.417552</td>\n",
       "      <td>-0.617800</td>\n",
       "      <td>1.612339</td>\n",
       "      <td>-0.603887</td>\n",
       "      <td>-1.089265</td>\n",
       "      <td>1</td>\n",
       "    </tr>\n",
       "    <tr>\n",
       "      <th>4</th>\n",
       "      <td>-0.566587</td>\n",
       "      <td>-0.634238</td>\n",
       "      <td>0.417552</td>\n",
       "      <td>-0.617800</td>\n",
       "      <td>1.612339</td>\n",
       "      <td>0.415589</td>\n",
       "      <td>2.017783</td>\n",
       "      <td>1</td>\n",
       "    </tr>\n",
       "  </tbody>\n",
       "</table>\n",
       "</div>"
      ],
      "text/plain": [
       "        Age  Employment Type  GraduateOrNot  AnnualIncome  ChronicDiseases  \\\n",
       "0  0.463430         1.576694       0.417552     -1.414061         1.612339   \n",
       "1  0.463430        -0.634238       0.417552      0.842012        -0.620217   \n",
       "2  1.493446        -0.634238       0.417552     -1.148641         1.612339   \n",
       "3 -0.566587        -0.634238       0.417552     -0.617800         1.612339   \n",
       "4 -0.566587        -0.634238       0.417552     -0.617800         1.612339   \n",
       "\n",
       "   TravelExperience  FamilyMembers  clusters  \n",
       "0         -0.603887       0.774964         3  \n",
       "1         -0.603887       1.396373         1  \n",
       "2         -0.603887      -0.467855         1  \n",
       "3         -0.603887      -1.089265         1  \n",
       "4          0.415589       2.017783         1  "
      ]
     },
     "execution_count": 77,
     "metadata": {},
     "output_type": "execute_result"
    }
   ],
   "source": [
    "df_std2.head()"
   ]
  },
  {
   "cell_type": "code",
   "execution_count": 78,
   "metadata": {
    "id": "np8F3tnpFwAA"
   },
   "outputs": [],
   "source": [
    "from sklearn.cluster import AgglomerativeClustering"
   ]
  },
  {
   "cell_type": "code",
   "execution_count": 79,
   "metadata": {
    "colab": {
     "base_uri": "https://localhost:8080/",
     "height": 74
    },
    "id": "8A7G5CP-GHXs",
    "outputId": "80ae9570-017b-47f8-90bb-ed5ed42e242c"
   },
   "outputs": [
    {
     "data": {
      "text/html": [
       "<style>#sk-container-id-2 {color: black;background-color: white;}#sk-container-id-2 pre{padding: 0;}#sk-container-id-2 div.sk-toggleable {background-color: white;}#sk-container-id-2 label.sk-toggleable__label {cursor: pointer;display: block;width: 100%;margin-bottom: 0;padding: 0.3em;box-sizing: border-box;text-align: center;}#sk-container-id-2 label.sk-toggleable__label-arrow:before {content: \"▸\";float: left;margin-right: 0.25em;color: #696969;}#sk-container-id-2 label.sk-toggleable__label-arrow:hover:before {color: black;}#sk-container-id-2 div.sk-estimator:hover label.sk-toggleable__label-arrow:before {color: black;}#sk-container-id-2 div.sk-toggleable__content {max-height: 0;max-width: 0;overflow: hidden;text-align: left;background-color: #f0f8ff;}#sk-container-id-2 div.sk-toggleable__content pre {margin: 0.2em;color: black;border-radius: 0.25em;background-color: #f0f8ff;}#sk-container-id-2 input.sk-toggleable__control:checked~div.sk-toggleable__content {max-height: 200px;max-width: 100%;overflow: auto;}#sk-container-id-2 input.sk-toggleable__control:checked~label.sk-toggleable__label-arrow:before {content: \"▾\";}#sk-container-id-2 div.sk-estimator input.sk-toggleable__control:checked~label.sk-toggleable__label {background-color: #d4ebff;}#sk-container-id-2 div.sk-label input.sk-toggleable__control:checked~label.sk-toggleable__label {background-color: #d4ebff;}#sk-container-id-2 input.sk-hidden--visually {border: 0;clip: rect(1px 1px 1px 1px);clip: rect(1px, 1px, 1px, 1px);height: 1px;margin: -1px;overflow: hidden;padding: 0;position: absolute;width: 1px;}#sk-container-id-2 div.sk-estimator {font-family: monospace;background-color: #f0f8ff;border: 1px dotted black;border-radius: 0.25em;box-sizing: border-box;margin-bottom: 0.5em;}#sk-container-id-2 div.sk-estimator:hover {background-color: #d4ebff;}#sk-container-id-2 div.sk-parallel-item::after {content: \"\";width: 100%;border-bottom: 1px solid gray;flex-grow: 1;}#sk-container-id-2 div.sk-label:hover label.sk-toggleable__label {background-color: #d4ebff;}#sk-container-id-2 div.sk-serial::before {content: \"\";position: absolute;border-left: 1px solid gray;box-sizing: border-box;top: 0;bottom: 0;left: 50%;z-index: 0;}#sk-container-id-2 div.sk-serial {display: flex;flex-direction: column;align-items: center;background-color: white;padding-right: 0.2em;padding-left: 0.2em;position: relative;}#sk-container-id-2 div.sk-item {position: relative;z-index: 1;}#sk-container-id-2 div.sk-parallel {display: flex;align-items: stretch;justify-content: center;background-color: white;position: relative;}#sk-container-id-2 div.sk-item::before, #sk-container-id-2 div.sk-parallel-item::before {content: \"\";position: absolute;border-left: 1px solid gray;box-sizing: border-box;top: 0;bottom: 0;left: 50%;z-index: -1;}#sk-container-id-2 div.sk-parallel-item {display: flex;flex-direction: column;z-index: 1;position: relative;background-color: white;}#sk-container-id-2 div.sk-parallel-item:first-child::after {align-self: flex-end;width: 50%;}#sk-container-id-2 div.sk-parallel-item:last-child::after {align-self: flex-start;width: 50%;}#sk-container-id-2 div.sk-parallel-item:only-child::after {width: 0;}#sk-container-id-2 div.sk-dashed-wrapped {border: 1px dashed gray;margin: 0 0.4em 0.5em 0.4em;box-sizing: border-box;padding-bottom: 0.4em;background-color: white;}#sk-container-id-2 div.sk-label label {font-family: monospace;font-weight: bold;display: inline-block;line-height: 1.2em;}#sk-container-id-2 div.sk-label-container {text-align: center;}#sk-container-id-2 div.sk-container {/* jupyter's `normalize.less` sets `[hidden] { display: none; }` but bootstrap.min.css set `[hidden] { display: none !important; }` so we also need the `!important` here to be able to override the default hidden behavior on the sphinx rendered scikit-learn.org. See: https://github.com/scikit-learn/scikit-learn/issues/21755 */display: inline-block !important;position: relative;}#sk-container-id-2 div.sk-text-repr-fallback {display: none;}</style><div id=\"sk-container-id-2\" class=\"sk-top-container\"><div class=\"sk-text-repr-fallback\"><pre>AgglomerativeClustering(affinity=&#x27;euclidean&#x27;, n_clusters=4)</pre><b>In a Jupyter environment, please rerun this cell to show the HTML representation or trust the notebook. <br />On GitHub, the HTML representation is unable to render, please try loading this page with nbviewer.org.</b></div><div class=\"sk-container\" hidden><div class=\"sk-item\"><div class=\"sk-estimator sk-toggleable\"><input class=\"sk-toggleable__control sk-hidden--visually\" id=\"sk-estimator-id-4\" type=\"checkbox\" checked><label for=\"sk-estimator-id-4\" class=\"sk-toggleable__label sk-toggleable__label-arrow\">AgglomerativeClustering</label><div class=\"sk-toggleable__content\"><pre>AgglomerativeClustering(affinity=&#x27;euclidean&#x27;, n_clusters=4)</pre></div></div></div></div></div>"
      ],
      "text/plain": [
       "AgglomerativeClustering(affinity='euclidean', n_clusters=4)"
      ]
     },
     "execution_count": 79,
     "metadata": {},
     "output_type": "execute_result"
    }
   ],
   "source": [
    "ac = AgglomerativeClustering(n_clusters=4, affinity='euclidean')\n",
    "ac.fit(df_std2)"
   ]
  },
  {
   "cell_type": "code",
   "execution_count": 80,
   "metadata": {
    "colab": {
     "base_uri": "https://localhost:8080/"
    },
    "id": "FK44DP2hGXf4",
    "outputId": "9139b512-91da-4610-9b85-ebfa6c972133"
   },
   "outputs": [
    {
     "data": {
      "text/plain": [
       "array([1, 0, 0, ..., 0, 2, 0], dtype=int64)"
      ]
     },
     "execution_count": 80,
     "metadata": {},
     "output_type": "execute_result"
    }
   ],
   "source": [
    "ac.labels_"
   ]
  },
  {
   "cell_type": "code",
   "execution_count": 81,
   "metadata": {
    "id": "D8NVkE7DHa4u"
   },
   "outputs": [],
   "source": [
    "df_new2 = df_new.copy()"
   ]
  },
  {
   "cell_type": "code",
   "execution_count": 82,
   "metadata": {
    "id": "CfN2LCmvGqvY"
   },
   "outputs": [],
   "source": [
    "# add column clusters to standardize data\n",
    "df_std2['clusters'] = ac.labels_\n",
    "\n",
    "# add column clusters to raw data\n",
    "df_new2['clusters'] = ac.labels_"
   ]
  },
  {
   "cell_type": "code",
   "execution_count": 83,
   "metadata": {
    "colab": {
     "base_uri": "https://localhost:8080/",
     "height": 206
    },
    "id": "3gWj5qfVHmUo",
    "outputId": "c6095bef-abb6-4a00-8b2d-c3024033eb79"
   },
   "outputs": [
    {
     "data": {
      "text/html": [
       "<div>\n",
       "<style scoped>\n",
       "    .dataframe tbody tr th:only-of-type {\n",
       "        vertical-align: middle;\n",
       "    }\n",
       "\n",
       "    .dataframe tbody tr th {\n",
       "        vertical-align: top;\n",
       "    }\n",
       "\n",
       "    .dataframe thead th {\n",
       "        text-align: right;\n",
       "    }\n",
       "</style>\n",
       "<table border=\"1\" class=\"dataframe\">\n",
       "  <thead>\n",
       "    <tr style=\"text-align: right;\">\n",
       "      <th></th>\n",
       "      <th>Age</th>\n",
       "      <th>Employment Type</th>\n",
       "      <th>GraduateOrNot</th>\n",
       "      <th>AnnualIncome</th>\n",
       "      <th>ChronicDiseases</th>\n",
       "      <th>TravelExperience</th>\n",
       "      <th>FamilyMembers</th>\n",
       "      <th>clusters</th>\n",
       "    </tr>\n",
       "  </thead>\n",
       "  <tbody>\n",
       "    <tr>\n",
       "      <th>0</th>\n",
       "      <td>0.463430</td>\n",
       "      <td>1.576694</td>\n",
       "      <td>0.417552</td>\n",
       "      <td>-1.414061</td>\n",
       "      <td>1.612339</td>\n",
       "      <td>-0.603887</td>\n",
       "      <td>0.774964</td>\n",
       "      <td>1</td>\n",
       "    </tr>\n",
       "    <tr>\n",
       "      <th>1</th>\n",
       "      <td>0.463430</td>\n",
       "      <td>-0.634238</td>\n",
       "      <td>0.417552</td>\n",
       "      <td>0.842012</td>\n",
       "      <td>-0.620217</td>\n",
       "      <td>-0.603887</td>\n",
       "      <td>1.396373</td>\n",
       "      <td>0</td>\n",
       "    </tr>\n",
       "    <tr>\n",
       "      <th>2</th>\n",
       "      <td>1.493446</td>\n",
       "      <td>-0.634238</td>\n",
       "      <td>0.417552</td>\n",
       "      <td>-1.148641</td>\n",
       "      <td>1.612339</td>\n",
       "      <td>-0.603887</td>\n",
       "      <td>-0.467855</td>\n",
       "      <td>0</td>\n",
       "    </tr>\n",
       "    <tr>\n",
       "      <th>3</th>\n",
       "      <td>-0.566587</td>\n",
       "      <td>-0.634238</td>\n",
       "      <td>0.417552</td>\n",
       "      <td>-0.617800</td>\n",
       "      <td>1.612339</td>\n",
       "      <td>-0.603887</td>\n",
       "      <td>-1.089265</td>\n",
       "      <td>0</td>\n",
       "    </tr>\n",
       "    <tr>\n",
       "      <th>4</th>\n",
       "      <td>-0.566587</td>\n",
       "      <td>-0.634238</td>\n",
       "      <td>0.417552</td>\n",
       "      <td>-0.617800</td>\n",
       "      <td>1.612339</td>\n",
       "      <td>0.415589</td>\n",
       "      <td>2.017783</td>\n",
       "      <td>0</td>\n",
       "    </tr>\n",
       "  </tbody>\n",
       "</table>\n",
       "</div>"
      ],
      "text/plain": [
       "        Age  Employment Type  GraduateOrNot  AnnualIncome  ChronicDiseases  \\\n",
       "0  0.463430         1.576694       0.417552     -1.414061         1.612339   \n",
       "1  0.463430        -0.634238       0.417552      0.842012        -0.620217   \n",
       "2  1.493446        -0.634238       0.417552     -1.148641         1.612339   \n",
       "3 -0.566587        -0.634238       0.417552     -0.617800         1.612339   \n",
       "4 -0.566587        -0.634238       0.417552     -0.617800         1.612339   \n",
       "\n",
       "   TravelExperience  FamilyMembers  clusters  \n",
       "0         -0.603887       0.774964         1  \n",
       "1         -0.603887       1.396373         0  \n",
       "2         -0.603887      -0.467855         0  \n",
       "3         -0.603887      -1.089265         0  \n",
       "4          0.415589       2.017783         0  "
      ]
     },
     "execution_count": 83,
     "metadata": {},
     "output_type": "execute_result"
    }
   ],
   "source": [
    "df_std2.head()"
   ]
  },
  {
   "cell_type": "code",
   "execution_count": 84,
   "metadata": {
    "colab": {
     "base_uri": "https://localhost:8080/",
     "height": 206
    },
    "id": "fXlee-8rIE7q",
    "outputId": "ae374e03-93f6-4aea-9649-289f8a6731ea"
   },
   "outputs": [
    {
     "data": {
      "text/html": [
       "<div>\n",
       "<style scoped>\n",
       "    .dataframe tbody tr th:only-of-type {\n",
       "        vertical-align: middle;\n",
       "    }\n",
       "\n",
       "    .dataframe tbody tr th {\n",
       "        vertical-align: top;\n",
       "    }\n",
       "\n",
       "    .dataframe thead th {\n",
       "        text-align: right;\n",
       "    }\n",
       "</style>\n",
       "<table border=\"1\" class=\"dataframe\">\n",
       "  <thead>\n",
       "    <tr style=\"text-align: right;\">\n",
       "      <th></th>\n",
       "      <th>Age</th>\n",
       "      <th>Employment Type</th>\n",
       "      <th>GraduateOrNot</th>\n",
       "      <th>AnnualIncome</th>\n",
       "      <th>FamilyMembers</th>\n",
       "      <th>ChronicDiseases</th>\n",
       "      <th>TravelInsurance</th>\n",
       "      <th>TravelExperience</th>\n",
       "      <th>clusters</th>\n",
       "    </tr>\n",
       "  </thead>\n",
       "  <tbody>\n",
       "    <tr>\n",
       "      <th>0</th>\n",
       "      <td>31</td>\n",
       "      <td>1</td>\n",
       "      <td>1</td>\n",
       "      <td>400000</td>\n",
       "      <td>6</td>\n",
       "      <td>1</td>\n",
       "      <td>0</td>\n",
       "      <td>0</td>\n",
       "      <td>1</td>\n",
       "    </tr>\n",
       "    <tr>\n",
       "      <th>1</th>\n",
       "      <td>31</td>\n",
       "      <td>0</td>\n",
       "      <td>1</td>\n",
       "      <td>1250000</td>\n",
       "      <td>7</td>\n",
       "      <td>0</td>\n",
       "      <td>0</td>\n",
       "      <td>0</td>\n",
       "      <td>0</td>\n",
       "    </tr>\n",
       "    <tr>\n",
       "      <th>2</th>\n",
       "      <td>34</td>\n",
       "      <td>0</td>\n",
       "      <td>1</td>\n",
       "      <td>500000</td>\n",
       "      <td>4</td>\n",
       "      <td>1</td>\n",
       "      <td>1</td>\n",
       "      <td>0</td>\n",
       "      <td>0</td>\n",
       "    </tr>\n",
       "    <tr>\n",
       "      <th>3</th>\n",
       "      <td>28</td>\n",
       "      <td>0</td>\n",
       "      <td>1</td>\n",
       "      <td>700000</td>\n",
       "      <td>3</td>\n",
       "      <td>1</td>\n",
       "      <td>0</td>\n",
       "      <td>0</td>\n",
       "      <td>0</td>\n",
       "    </tr>\n",
       "    <tr>\n",
       "      <th>4</th>\n",
       "      <td>28</td>\n",
       "      <td>0</td>\n",
       "      <td>1</td>\n",
       "      <td>700000</td>\n",
       "      <td>8</td>\n",
       "      <td>1</td>\n",
       "      <td>0</td>\n",
       "      <td>1</td>\n",
       "      <td>0</td>\n",
       "    </tr>\n",
       "  </tbody>\n",
       "</table>\n",
       "</div>"
      ],
      "text/plain": [
       "   Age  Employment Type  GraduateOrNot  AnnualIncome  FamilyMembers  \\\n",
       "0   31                1              1        400000              6   \n",
       "1   31                0              1       1250000              7   \n",
       "2   34                0              1        500000              4   \n",
       "3   28                0              1        700000              3   \n",
       "4   28                0              1        700000              8   \n",
       "\n",
       "   ChronicDiseases  TravelInsurance  TravelExperience  clusters  \n",
       "0                1                0                 0         1  \n",
       "1                0                0                 0         0  \n",
       "2                1                1                 0         0  \n",
       "3                1                0                 0         0  \n",
       "4                1                0                 1         0  "
      ]
     },
     "execution_count": 84,
     "metadata": {},
     "output_type": "execute_result"
    }
   ],
   "source": [
    "df_new2.head()"
   ]
  },
  {
   "cell_type": "code",
   "execution_count": 85,
   "metadata": {},
   "outputs": [
    {
     "data": {
      "text/html": [
       "<div>\n",
       "<style scoped>\n",
       "    .dataframe tbody tr th:only-of-type {\n",
       "        vertical-align: middle;\n",
       "    }\n",
       "\n",
       "    .dataframe tbody tr th {\n",
       "        vertical-align: top;\n",
       "    }\n",
       "\n",
       "    .dataframe thead tr th {\n",
       "        text-align: left;\n",
       "    }\n",
       "\n",
       "    .dataframe thead tr:last-of-type th {\n",
       "        text-align: right;\n",
       "    }\n",
       "</style>\n",
       "<table border=\"1\" class=\"dataframe\">\n",
       "  <thead>\n",
       "    <tr>\n",
       "      <th></th>\n",
       "      <th colspan=\"2\" halign=\"left\">Age</th>\n",
       "      <th colspan=\"2\" halign=\"left\">Employment Type</th>\n",
       "      <th colspan=\"2\" halign=\"left\">GraduateOrNot</th>\n",
       "      <th colspan=\"2\" halign=\"left\">AnnualIncome</th>\n",
       "      <th colspan=\"2\" halign=\"left\">FamilyMembers</th>\n",
       "      <th colspan=\"2\" halign=\"left\">ChronicDiseases</th>\n",
       "      <th colspan=\"2\" halign=\"left\">TravelInsurance</th>\n",
       "      <th colspan=\"2\" halign=\"left\">TravelExperience</th>\n",
       "    </tr>\n",
       "    <tr>\n",
       "      <th></th>\n",
       "      <th>mean</th>\n",
       "      <th>median</th>\n",
       "      <th>mean</th>\n",
       "      <th>median</th>\n",
       "      <th>mean</th>\n",
       "      <th>median</th>\n",
       "      <th>mean</th>\n",
       "      <th>median</th>\n",
       "      <th>mean</th>\n",
       "      <th>median</th>\n",
       "      <th>mean</th>\n",
       "      <th>median</th>\n",
       "      <th>mean</th>\n",
       "      <th>median</th>\n",
       "      <th>mean</th>\n",
       "      <th>median</th>\n",
       "    </tr>\n",
       "    <tr>\n",
       "      <th>clusters</th>\n",
       "      <th></th>\n",
       "      <th></th>\n",
       "      <th></th>\n",
       "      <th></th>\n",
       "      <th></th>\n",
       "      <th></th>\n",
       "      <th></th>\n",
       "      <th></th>\n",
       "      <th></th>\n",
       "      <th></th>\n",
       "      <th></th>\n",
       "      <th></th>\n",
       "      <th></th>\n",
       "      <th></th>\n",
       "      <th></th>\n",
       "      <th></th>\n",
       "    </tr>\n",
       "  </thead>\n",
       "  <tbody>\n",
       "    <tr>\n",
       "      <th>0</th>\n",
       "      <td>29.612559</td>\n",
       "      <td>29.0</td>\n",
       "      <td>0.000000</td>\n",
       "      <td>0.0</td>\n",
       "      <td>1.000000</td>\n",
       "      <td>1.0</td>\n",
       "      <td>9.010071e+05</td>\n",
       "      <td>900000.0</td>\n",
       "      <td>4.787915</td>\n",
       "      <td>5.0</td>\n",
       "      <td>0.281991</td>\n",
       "      <td>0.0</td>\n",
       "      <td>0.234597</td>\n",
       "      <td>0.0</td>\n",
       "      <td>0.149289</td>\n",
       "      <td>0.0</td>\n",
       "    </tr>\n",
       "    <tr>\n",
       "      <th>1</th>\n",
       "      <td>30.175758</td>\n",
       "      <td>31.0</td>\n",
       "      <td>1.000000</td>\n",
       "      <td>1.0</td>\n",
       "      <td>1.000000</td>\n",
       "      <td>1.0</td>\n",
       "      <td>7.263636e+05</td>\n",
       "      <td>700000.0</td>\n",
       "      <td>4.793939</td>\n",
       "      <td>5.0</td>\n",
       "      <td>0.270707</td>\n",
       "      <td>0.0</td>\n",
       "      <td>0.242424</td>\n",
       "      <td>0.0</td>\n",
       "      <td>0.153535</td>\n",
       "      <td>0.0</td>\n",
       "    </tr>\n",
       "    <tr>\n",
       "      <th>2</th>\n",
       "      <td>29.152589</td>\n",
       "      <td>29.0</td>\n",
       "      <td>0.084469</td>\n",
       "      <td>0.0</td>\n",
       "      <td>0.961853</td>\n",
       "      <td>1.0</td>\n",
       "      <td>1.383379e+06</td>\n",
       "      <td>1400000.0</td>\n",
       "      <td>4.692098</td>\n",
       "      <td>5.0</td>\n",
       "      <td>0.305177</td>\n",
       "      <td>0.0</td>\n",
       "      <td>0.831063</td>\n",
       "      <td>1.0</td>\n",
       "      <td>2.367847</td>\n",
       "      <td>2.0</td>\n",
       "    </tr>\n",
       "    <tr>\n",
       "      <th>3</th>\n",
       "      <td>29.487544</td>\n",
       "      <td>30.0</td>\n",
       "      <td>0.156584</td>\n",
       "      <td>0.0</td>\n",
       "      <td>0.000000</td>\n",
       "      <td>0.0</td>\n",
       "      <td>8.032028e+05</td>\n",
       "      <td>800000.0</td>\n",
       "      <td>4.654804</td>\n",
       "      <td>4.0</td>\n",
       "      <td>0.241993</td>\n",
       "      <td>0.0</td>\n",
       "      <td>0.309609</td>\n",
       "      <td>0.0</td>\n",
       "      <td>0.377224</td>\n",
       "      <td>0.0</td>\n",
       "    </tr>\n",
       "  </tbody>\n",
       "</table>\n",
       "</div>"
      ],
      "text/plain": [
       "                Age        Employment Type        GraduateOrNot         \\\n",
       "               mean median            mean median          mean median   \n",
       "clusters                                                                 \n",
       "0         29.612559   29.0        0.000000    0.0      1.000000    1.0   \n",
       "1         30.175758   31.0        1.000000    1.0      1.000000    1.0   \n",
       "2         29.152589   29.0        0.084469    0.0      0.961853    1.0   \n",
       "3         29.487544   30.0        0.156584    0.0      0.000000    0.0   \n",
       "\n",
       "          AnnualIncome            FamilyMembers        ChronicDiseases         \\\n",
       "                  mean     median          mean median            mean median   \n",
       "clusters                                                                        \n",
       "0         9.010071e+05   900000.0      4.787915    5.0        0.281991    0.0   \n",
       "1         7.263636e+05   700000.0      4.793939    5.0        0.270707    0.0   \n",
       "2         1.383379e+06  1400000.0      4.692098    5.0        0.305177    0.0   \n",
       "3         8.032028e+05   800000.0      4.654804    4.0        0.241993    0.0   \n",
       "\n",
       "         TravelInsurance        TravelExperience         \n",
       "                    mean median             mean median  \n",
       "clusters                                                 \n",
       "0               0.234597    0.0         0.149289    0.0  \n",
       "1               0.242424    0.0         0.153535    0.0  \n",
       "2               0.831063    1.0         2.367847    2.0  \n",
       "3               0.309609    0.0         0.377224    0.0  "
      ]
     },
     "metadata": {},
     "output_type": "display_data"
    }
   ],
   "source": [
    "display(df_new2.groupby('clusters').agg(['mean','median']))"
   ]
  },
  {
   "cell_type": "code",
   "execution_count": 86,
   "metadata": {
    "colab": {
     "base_uri": "https://localhost:8080/"
    },
    "id": "sgY3NAePIHs_",
    "outputId": "8d7135f2-4aaf-46c5-a18e-403a44a7656a"
   },
   "outputs": [
    {
     "data": {
      "text/plain": [
       "clusters\n",
       "0    844\n",
       "1    495\n",
       "2    367\n",
       "3    281\n",
       "Name: count, dtype: int64"
      ]
     },
     "execution_count": 86,
     "metadata": {},
     "output_type": "execute_result"
    }
   ],
   "source": [
    "df_std2['clusters'].value_counts()"
   ]
  },
  {
   "cell_type": "code",
   "execution_count": 90,
   "metadata": {
    "id": "18uYlwKaIQXD"
   },
   "outputs": [],
   "source": [
    "import scipy.cluster.hierarchy as shc\n",
    "from scipy.cluster.hierarchy import linkage, dendrogram"
   ]
  },
  {
   "cell_type": "code",
   "execution_count": 101,
   "metadata": {
    "colab": {
     "base_uri": "https://localhost:8080/",
     "height": 603
    },
    "id": "3PDPofBLJP2d",
    "outputId": "a1ea88aa-0f81-4fea-93ba-ca86528f3583"
   },
   "outputs": [
    {
     "data": {
      "image/png": "[encoded data removed]",
      "text/plain": [
       "<Figure size 1000x700 with 1 Axes>"
      ]
     },
     "metadata": {},
     "output_type": "display_data"
    }
   ],
   "source": [
    "plt.figure(figsize=(10,7))\n",
    "dend = shc.dendrogram(shc.linkage(df_std2, method='ward'))"
   ]
  },
  {
   "cell_type": "markdown",
   "metadata": {
    "id": "VGWXNFV4FZ3q"
   },
   "source": [
    "Model Evaluation\n"
   ]
  },
  {
   "cell_type": "code",
   "execution_count": 87,
   "metadata": {
    "colab": {
     "base_uri": "https://localhost:8080/"
    },
    "id": "VXa3W2eiFryI",
    "outputId": "8e6f17ce-aa32-4c2e-fba3-13e5c672e2fb"
   },
   "outputs": [
    {
     "name": "stdout",
     "output_type": "stream",
     "text": [
      "Adjusted Rand Score for KMeans and Hierarchical Clustering: 0.9846731276790616\n"
     ]
    }
   ],
   "source": [
    "# Evaluasi Internal\n",
    "from sklearn.metrics.cluster import adjusted_rand_score\n",
    "\n",
    "hierarchical_score = adjusted_rand_score(df_std2['clusters'], df_std['clusters'])\n",
    "print(\"Adjusted Rand Score for KMeans and Hierarchical Clustering:\", hierarchical_score)"
   ]
  },
  {
   "cell_type": "markdown",
   "metadata": {
    "id": "NMucTPyb9FSU"
   },
   "source": [
    "## Hyperparameter Tuning"
   ]
  },
  {
   "cell_type": "code",
   "execution_count": null,
   "metadata": {
    "colab": {
     "base_uri": "https://localhost:8080/"
    },
    "id": "pkTRDuVl-xTS",
    "outputId": "9bf51826-a952-4b5d-efdd-8c33d2fc9cb9"
   },
   "outputs": [],
   "source": [
    "from sklearn.model_selection import GridSearchCV\n",
    "\n",
    "kmeans = KMeans(random_state=0)\n",
    "\n",
    "# Daftar hyperparameter yang akan diuji\n",
    "param_grid_kmeans = {\n",
    "    'n_clusters': [2, 3, 4, 5, 6],\n",
    "    'init': ['k-means++', 'random'],\n",
    "    'max_iter': [300, 500, 1000],\n",
    "    'tol': [1e-4, 1e-5, 1e-6]\n",
    "}\n",
    "\n",
    "# Lakukan GridSearchCV untuk KMeans\n",
    "grid_search_kmeans = GridSearchCV(estimator=kmeans, param_grid=param_grid_kmeans, cv=3)\n",
    "grid_search_kmeans.fit(df_std)\n",
    "\n",
    "# Tampilkan parameter terbaik\n",
    "print(\"Best parameters for KMeans:\", grid_search_kmeans.best_params_)"
   ]
  },
  {
   "cell_type": "markdown",
   "metadata": {},
   "source": [
    "Best parameters for KMeans: {'init': 'k-means++', 'max_iter': 300, 'n_clusters': 6, 'tol': 0.0001}"
   ]
  },
  {
   "cell_type": "code",
   "execution_count": 104,
   "metadata": {
    "colab": {
     "base_uri": "https://localhost:8080/"
    },
    "id": "9mBPvWOt9OB4",
    "outputId": "366f3c53-8d73-41ea-de5b-c25ef123c30b"
   },
   "outputs": [
    {
     "name": "stdout",
     "output_type": "stream",
     "text": [
      "Best parameters for Agglomerative Clustering: {'linkage': 'ward', 'n_clusters': 4}\n"
     ]
    }
   ],
   "source": [
    "from sklearn.metrics import silhouette_score\n",
    "\n",
    "ac = AgglomerativeClustering()\n",
    "\n",
    "# Daftar hyperparameter yang akan diuji\n",
    "param_grid_ac = {\n",
    "    'n_clusters': [2, 3, 4, 5, 6],\n",
    "    'linkage': ['ward', 'complete', 'average', 'single']\n",
    "}\n",
    "\n",
    "# Fungsi untuk menghitung Silhouette Score sebagai metrik evaluasi\n",
    "def silhouette_scorer(estimator, X):\n",
    "    clusters = estimator.fit_predict(X)\n",
    "    return silhouette_score(X, clusters)\n",
    "\n",
    "# Lakukan GridSearchCV untuk Agglomerative Clustering\n",
    "grid_search_ac = GridSearchCV(estimator=ac, param_grid=param_grid_ac, cv=3, scoring=silhouette_scorer)\n",
    "grid_search_ac.fit(df_std2)\n",
    "\n",
    "# Tampilkan parameter terbaik\n",
    "print(\"Best parameters for Agglomerative Clustering:\", grid_search_ac.best_params_)\n"
   ]
  },
  {
   "cell_type": "markdown",
   "metadata": {
    "id": "JVgXubjiMZlD"
   },
   "source": [
    "## Feature Importance"
   ]
  },
  {
   "cell_type": "code",
   "execution_count": 90,
   "metadata": {
    "id": "XXudQparyKdB"
   },
   "outputs": [],
   "source": [
    "from scipy.stats import f_oneway\n",
    "\n",
    "# Memisahkan data menjadi kelompok berdasarkan cluster\n",
    "cluster0 = df_std2[df_std2['clusters'] == 0]\n",
    "cluster1 = df_std2[df_std2['clusters'] == 1]\n",
    "cluster2 = df_std2[df_std2['clusters'] == 2]\n",
    "cluster3 = df_std2[df_std2['clusters'] == 3]"
   ]
  },
  {
   "cell_type": "code",
   "execution_count": 91,
   "metadata": {
    "colab": {
     "base_uri": "https://localhost:8080/"
    },
    "id": "ptmygPu_1rlC",
    "outputId": "b1810202-9f7b-43ef-958b-8f868f9bc8f5"
   },
   "outputs": [
    {
     "name": "stdout",
     "output_type": "stream",
     "text": [
      "ANOVA for Age: F-statistic=9.395370234953273, p-value=3.641318255369845e-06\n",
      "ANOVA for Employment Type: F-statistic=3441.6212635511624, p-value=0.0\n",
      "ANOVA for GraduateOrNot: F-statistic=11669.74425082342, p-value=0.0\n",
      "ANOVA for AnnualIncome: F-statistic=369.74281756730676, p-value=1.0464982095300275e-190\n",
      "ANOVA for ChronicDiseases: F-statistic=1.1212379207941423, p-value=0.3391455339112807\n",
      "ANOVA for TravelExperience: F-statistic=1966.9186216334456, p-value=0.0\n",
      "ANOVA for FamilyMembers: F-statistic=0.7625306143128882, p-value=0.5150448424587831\n"
     ]
    }
   ],
   "source": [
    "# Uji ANOVA untuk setiap fitur\n",
    "for feature in df_std2.columns[:-1]:  # Exclude 'cluster' column\n",
    "    f_statistic, p_value = f_oneway(cluster0[feature], cluster1[feature], cluster2[feature], cluster3[feature])\n",
    "    print(f\"ANOVA for {feature}: F-statistic={f_statistic}, p-value={p_value}\")"
   ]
  },
  {
   "cell_type": "markdown",
   "metadata": {
    "id": "KPktfx856tjy"
   },
   "source": [
    "Hasil uji ANOVA menunjukkan bahwa terdapat perbedaan signifikan antara setidaknya dua kelompok klaster untuk semua fitur kecuali 'ChronicDiseases' dan 'FamilyMembers'.\n",
    "\n",
    "\n",
    "1. Untuk fitur 'Age', 'Employment Type', 'GraduateOrNot', 'AnnualIncome', dan 'TravelExperience', nilai p-value yang sangat kecil menunjukkan bahwa terdapat perbedaan signifikan antara setidaknya dua kelompok klaster untuk fitur-fitur tersebut.\n",
    "\n",
    "2. Namun, untuk fitur 'ChronicDiseases' dan 'FamilyMembers', nilai p-value yang lebih besar dari 0.05 menunjukkan bahwa tidak ada perbedaan signifikan antara kelompok klaster untuk fitur-fitur tersebut.\n",
    "\n",
    "3. Hasil uji ANOVA untuk kolom 'cluster' menunjukkan bahwa terdapat perbedaan signifikan antara setidaknya dua kelompok klaster, seperti yang diharapkan.\n",
    "\n",
    "Ini menunjukkan bahwa fitur-fitur seperti 'Age', 'Employment Type', 'GraduateOrNot', 'AnnualIncome', dan 'TravelExperience' mungkin menjadi penentu penting dalam membedakan antara klaster-klaster yang telah diidentifikasi. Sedangkan fitur-fitur seperti 'ChronicDiseases' dan 'FamilyMembers' mungkin tidak memberikan kontribusi signifikan dalam membedakan klaster-klaster tersebut."
   ]
  },
  {
   "cell_type": "markdown",
   "metadata": {
    "id": "pO8qmzgBhxW4"
   },
   "source": [
    "# Insight"
   ]
  },
  {
   "cell_type": "code",
   "execution_count": 114,
   "metadata": {
    "colab": {
     "base_uri": "https://localhost:8080/",
     "height": 257
    },
    "id": "xlQ0CWmKiHo7",
    "outputId": "c601c4e6-e194-42f6-d900-0c775c280b0c"
   },
   "outputs": [
    {
     "data": {
      "application/vnd.google.colaboratory.intrinsic+json": {
       "summary": "{\n  \"name\": \"display(df_new\",\n  \"rows\": 4,\n  \"fields\": [\n    {\n      \"column\": [\n        \"Age\",\n        \"mean\"\n      ],\n      \"properties\": {\n        \"dtype\": \"number\",\n        \"std\": 0.40940617809524926,\n        \"min\": 29.18611111111111,\n        \"max\": 30.161354581673308,\n        \"samples\": [\n          29.60355029585799,\n          30.161354581673308,\n          29.47142857142857\n        ],\n        \"num_unique_values\": 4,\n        \"semantic_type\": \"\",\n        \"description\": \"\"\n      }\n    },\n    {\n      \"column\": [\n        \"Age\",\n        \"median\"\n      ],\n      \"properties\": {\n        \"dtype\": \"number\",\n        \"std\": 0.9574271077563381,\n        \"min\": 29.0,\n        \"max\": 31.0,\n        \"samples\": [\n          30.0,\n          29.0,\n          31.0\n        ],\n        \"num_unique_values\": 3,\n        \"semantic_type\": \"\",\n        \"description\": \"\"\n      }\n    },\n    {\n      \"column\": [\n        \"Employment Type\",\n        \"mean\"\n      ],\n      \"properties\": {\n        \"dtype\": \"number\",\n        \"std\": 0.4671583901111562,\n        \"min\": 0.0,\n        \"max\": 1.0,\n        \"samples\": [\n          0.0,\n          1.0,\n          0.15714285714285714\n        ],\n        \"num_unique_values\": 4,\n        \"semantic_type\": \"\",\n        \"description\": \"\"\n      }\n    },\n    {\n      \"column\": [\n        \"Employment Type\",\n        \"median\"\n      ],\n      \"properties\": {\n        \"dtype\": \"number\",\n        \"std\": 0.5,\n        \"min\": 0.0,\n        \"max\": 1.0,\n        \"samples\": [\n          1.0,\n          0.0\n        ],\n        \"num_unique_values\": 2,\n        \"semantic_type\": \"\",\n        \"description\": \"\"\n      }\n    },\n    {\n      \"column\": [\n        \"GraduateOrNot\",\n        \"mean\"\n      ],\n      \"properties\": {\n        \"dtype\": \"number\",\n        \"std\": 0.4934466367636255,\n        \"min\": 0.0,\n        \"max\": 1.0,\n        \"samples\": [\n          0.0,\n          1.0\n        ],\n        \"num_unique_values\": 3,\n        \"semantic_type\": \"\",\n        \"description\": \"\"\n      }\n    },\n    {\n      \"column\": [\n        \"GraduateOrNot\",\n        \"median\"\n      ],\n      \"properties\": {\n        \"dtype\": \"number\",\n        \"std\": 0.5,\n        \"min\": 0.0,\n        \"max\": 1.0,\n        \"samples\": [\n          1.0,\n          0.0\n        ],\n        \"num_unique_values\": 2,\n        \"semantic_type\": \"\",\n        \"description\": \"\"\n      }\n    },\n    {\n      \"column\": [\n        \"AnnualIncome\",\n        \"mean\"\n      ],\n      \"properties\": {\n        \"dtype\": \"number\",\n        \"std\": 303063.8724720593,\n        \"min\": 727788.844621514,\n        \"max\": 1399027.7777777778,\n        \"samples\": [\n          899526.6272189349,\n          727788.844621514\n        ],\n        \"num_unique_values\": 4,\n        \"semantic_type\": \"\",\n        \"description\": \"\"\n      }\n    },\n    {\n      \"column\": [\n        \"AnnualIncome\",\n        \"median\"\n      ],\n      \"properties\": {\n        \"dtype\": \"number\",\n        \"std\": 298258.8361362213,\n        \"min\": 750000.0,\n        \"max\": 1400000.0,\n        \"samples\": [\n          900000.0,\n          750000.0\n        ],\n        \"num_unique_values\": 4,\n        \"semantic_type\": \"\",\n        \"description\": \"\"\n      }\n    },\n    {\n      \"column\": [\n        \"FamilyMembers\",\n        \"mean\"\n      ],\n      \"properties\": {\n        \"dtype\": \"number\",\n        \"std\": 0.06890701532204777,\n        \"min\": 4.660714285714286,\n        \"max\": 4.791715976331361,\n        \"samples\": [\n          4.791715976331361,\n          4.788844621513944\n        ],\n        \"num_unique_values\": 4,\n        \"semantic_type\": \"\",\n        \"description\": \"\"\n      }\n    },\n    {\n      \"column\": [\n        \"FamilyMembers\",\n        \"median\"\n      ],\n      \"properties\": {\n        \"dtype\": \"number\",\n        \"std\": 0.5773502691896257,\n        \"min\": 4.0,\n        \"max\": 5.0,\n        \"samples\": [\n          5.0,\n          4.0\n        ],\n        \"num_unique_values\": 2,\n        \"semantic_type\": \"\",\n        \"description\": \"\"\n      }\n    },\n    {\n      \"column\": [\n        \"ChronicDiseases\",\n        \"mean\"\n      ],\n      \"properties\": {\n        \"dtype\": \"number\",\n        \"std\": 0.022948580898191538,\n        \"min\": 0.24285714285714285,\n        \"max\": 0.2972222222222222,\n        \"samples\": [\n          0.27928994082840236,\n          0.28087649402390436\n        ],\n        \"num_unique_values\": 4,\n        \"semantic_type\": \"\",\n        \"description\": \"\"\n      }\n    },\n    {\n      \"column\": [\n        \"ChronicDiseases\",\n        \"median\"\n      ],\n      \"properties\": {\n        \"dtype\": \"number\",\n        \"std\": 0.0,\n        \"min\": 0.0,\n        \"max\": 0.0,\n        \"samples\": [\n          0.0\n        ],\n        \"num_unique_values\": 1,\n        \"semantic_type\": \"\",\n        \"description\": \"\"\n      }\n    },\n    {\n      \"column\": [\n        \"TravelInsurance\",\n        \"mean\"\n      ],\n      \"properties\": {\n        \"dtype\": \"number\",\n        \"std\": 0.2934191649600845,\n        \"min\": 0.23550295857988165,\n        \"max\": 0.8444444444444444,\n        \"samples\": [\n          0.23550295857988165\n        ],\n        \"num_unique_values\": 4,\n        \"semantic_type\": \"\",\n        \"description\": \"\"\n      }\n    },\n    {\n      \"column\": [\n        \"TravelInsurance\",\n        \"median\"\n      ],\n      \"properties\": {\n        \"dtype\": \"number\",\n        \"std\": 0.5,\n        \"min\": 0.0,\n        \"max\": 1.0,\n        \"samples\": [\n          1.0\n        ],\n        \"num_unique_values\": 2,\n        \"semantic_type\": \"\",\n        \"description\": \"\"\n      }\n    },\n    {\n      \"column\": [\n        \"TravelExperience\",\n        \"mean\"\n      ],\n      \"properties\": {\n        \"dtype\": \"number\",\n        \"std\": 1.0768894808882175,\n        \"min\": 0.15266272189349112,\n        \"max\": 2.3777777777777778,\n        \"samples\": [\n          0.15266272189349112\n        ],\n        \"num_unique_values\": 4,\n        \"semantic_type\": \"\",\n        \"description\": \"\"\n      }\n    },\n    {\n      \"column\": [\n        \"TravelExperience\",\n        \"median\"\n      ],\n      \"properties\": {\n        \"dtype\": \"number\",\n        \"std\": 1.0,\n        \"min\": 0.0,\n        \"max\": 2.0,\n        \"samples\": [\n          2.0\n        ],\n        \"num_unique_values\": 2,\n        \"semantic_type\": \"\",\n        \"description\": \"\"\n      }\n    }\n  ]\n}",
       "type": "dataframe"
      },
      "text/html": [
       "\n",
       "  <div id=\"df-cc883550-ebaa-42b5-97f1-7132698e5f6b\" class=\"colab-df-container\">\n",
       "    <div>\n",
       "<style scoped>\n",
       "    .dataframe tbody tr th:only-of-type {\n",
       "        vertical-align: middle;\n",
       "    }\n",
       "\n",
       "    .dataframe tbody tr th {\n",
       "        vertical-align: top;\n",
       "    }\n",
       "\n",
       "    .dataframe thead tr th {\n",
       "        text-align: left;\n",
       "    }\n",
       "\n",
       "    .dataframe thead tr:last-of-type th {\n",
       "        text-align: right;\n",
       "    }\n",
       "</style>\n",
       "<table border=\"1\" class=\"dataframe\">\n",
       "  <thead>\n",
       "    <tr>\n",
       "      <th></th>\n",
       "      <th colspan=\"2\" halign=\"left\">Age</th>\n",
       "      <th colspan=\"2\" halign=\"left\">Employment Type</th>\n",
       "      <th colspan=\"2\" halign=\"left\">GraduateOrNot</th>\n",
       "      <th colspan=\"2\" halign=\"left\">AnnualIncome</th>\n",
       "      <th colspan=\"2\" halign=\"left\">FamilyMembers</th>\n",
       "      <th colspan=\"2\" halign=\"left\">ChronicDiseases</th>\n",
       "      <th colspan=\"2\" halign=\"left\">TravelInsurance</th>\n",
       "      <th colspan=\"2\" halign=\"left\">TravelExperience</th>\n",
       "    </tr>\n",
       "    <tr>\n",
       "      <th></th>\n",
       "      <th>mean</th>\n",
       "      <th>median</th>\n",
       "      <th>mean</th>\n",
       "      <th>median</th>\n",
       "      <th>mean</th>\n",
       "      <th>median</th>\n",
       "      <th>mean</th>\n",
       "      <th>median</th>\n",
       "      <th>mean</th>\n",
       "      <th>median</th>\n",
       "      <th>mean</th>\n",
       "      <th>median</th>\n",
       "      <th>mean</th>\n",
       "      <th>median</th>\n",
       "      <th>mean</th>\n",
       "      <th>median</th>\n",
       "    </tr>\n",
       "    <tr>\n",
       "      <th>clusters</th>\n",
       "      <th></th>\n",
       "      <th></th>\n",
       "      <th></th>\n",
       "      <th></th>\n",
       "      <th></th>\n",
       "      <th></th>\n",
       "      <th></th>\n",
       "      <th></th>\n",
       "      <th></th>\n",
       "      <th></th>\n",
       "      <th></th>\n",
       "      <th></th>\n",
       "      <th></th>\n",
       "      <th></th>\n",
       "      <th></th>\n",
       "      <th></th>\n",
       "    </tr>\n",
       "  </thead>\n",
       "  <tbody>\n",
       "    <tr>\n",
       "      <th>0</th>\n",
       "      <td>29.471429</td>\n",
       "      <td>30.0</td>\n",
       "      <td>0.157143</td>\n",
       "      <td>0.0</td>\n",
       "      <td>0.000000</td>\n",
       "      <td>0.0</td>\n",
       "      <td>8.010714e+05</td>\n",
       "      <td>800000.0</td>\n",
       "      <td>4.660714</td>\n",
       "      <td>4.0</td>\n",
       "      <td>0.242857</td>\n",
       "      <td>0.0</td>\n",
       "      <td>0.307143</td>\n",
       "      <td>0.0</td>\n",
       "      <td>0.367857</td>\n",
       "      <td>0.0</td>\n",
       "    </tr>\n",
       "    <tr>\n",
       "      <th>1</th>\n",
       "      <td>29.603550</td>\n",
       "      <td>29.0</td>\n",
       "      <td>0.000000</td>\n",
       "      <td>0.0</td>\n",
       "      <td>1.000000</td>\n",
       "      <td>1.0</td>\n",
       "      <td>8.995266e+05</td>\n",
       "      <td>900000.0</td>\n",
       "      <td>4.791716</td>\n",
       "      <td>5.0</td>\n",
       "      <td>0.279290</td>\n",
       "      <td>0.0</td>\n",
       "      <td>0.235503</td>\n",
       "      <td>0.0</td>\n",
       "      <td>0.152663</td>\n",
       "      <td>0.0</td>\n",
       "    </tr>\n",
       "    <tr>\n",
       "      <th>2</th>\n",
       "      <td>29.186111</td>\n",
       "      <td>29.0</td>\n",
       "      <td>0.066667</td>\n",
       "      <td>0.0</td>\n",
       "      <td>0.958333</td>\n",
       "      <td>1.0</td>\n",
       "      <td>1.399028e+06</td>\n",
       "      <td>1400000.0</td>\n",
       "      <td>4.683333</td>\n",
       "      <td>4.0</td>\n",
       "      <td>0.297222</td>\n",
       "      <td>0.0</td>\n",
       "      <td>0.844444</td>\n",
       "      <td>1.0</td>\n",
       "      <td>2.377778</td>\n",
       "      <td>2.0</td>\n",
       "    </tr>\n",
       "    <tr>\n",
       "      <th>3</th>\n",
       "      <td>30.161355</td>\n",
       "      <td>31.0</td>\n",
       "      <td>1.000000</td>\n",
       "      <td>1.0</td>\n",
       "      <td>1.000000</td>\n",
       "      <td>1.0</td>\n",
       "      <td>7.277888e+05</td>\n",
       "      <td>750000.0</td>\n",
       "      <td>4.788845</td>\n",
       "      <td>5.0</td>\n",
       "      <td>0.280876</td>\n",
       "      <td>0.0</td>\n",
       "      <td>0.241036</td>\n",
       "      <td>0.0</td>\n",
       "      <td>0.177291</td>\n",
       "      <td>0.0</td>\n",
       "    </tr>\n",
       "  </tbody>\n",
       "</table>\n",
       "</div>\n",
       "    <div class=\"colab-df-buttons\">\n",
       "\n",
       "  <div class=\"colab-df-container\">\n",
       "    <button class=\"colab-df-convert\" onclick=\"convertToInteractive('df-cc883550-ebaa-42b5-97f1-7132698e5f6b')\"\n",
       "            title=\"Convert this dataframe to an interactive table.\"\n",
       "            style=\"display:none;\">\n",
       "\n",
       "  <svg xmlns=\"http://www.w3.org/2000/svg\" height=\"24px\" viewBox=\"0 -960 960 960\">\n",
       "    <path d=\"M120-120v-720h720v720H120Zm60-500h600v-160H180v160Zm220 220h160v-160H400v160Zm0 220h160v-160H400v160ZM180-400h160v-160H180v160Zm440 0h160v-160H620v160ZM180-180h160v-160H180v160Zm440 0h160v-160H620v160Z\"/>\n",
       "  </svg>\n",
       "    </button>\n",
       "\n",
       "  <style>\n",
       "    .colab-df-container {\n",
       "      display:flex;\n",
       "      gap: 12px;\n",
       "    }\n",
       "\n",
       "    .colab-df-convert {\n",
       "      background-color: #E8F0FE;\n",
       "      border: none;\n",
       "      border-radius: 50%;\n",
       "      cursor: pointer;\n",
       "      display: none;\n",
       "      fill: #1967D2;\n",
       "      height: 32px;\n",
       "      padding: 0 0 0 0;\n",
       "      width: 32px;\n",
       "    }\n",
       "\n",
       "    .colab-df-convert:hover {\n",
       "      background-color: #E2EBFA;\n",
       "      box-shadow: 0px 1px 2px rgba(60, 64, 67, 0.3), 0px 1px 3px 1px rgba(60, 64, 67, 0.15);\n",
       "      fill: #174EA6;\n",
       "    }\n",
       "\n",
       "    .colab-df-buttons div {\n",
       "      margin-bottom: 4px;\n",
       "    }\n",
       "\n",
       "    [theme=dark] .colab-df-convert {\n",
       "      background-color: #3B4455;\n",
       "      fill: #D2E3FC;\n",
       "    }\n",
       "\n",
       "    [theme=dark] .colab-df-convert:hover {\n",
       "      background-color: #434B5C;\n",
       "      box-shadow: 0px 1px 3px 1px rgba(0, 0, 0, 0.15);\n",
       "      filter: drop-shadow(0px 1px 2px rgba(0, 0, 0, 0.3));\n",
       "      fill: #FFFFFF;\n",
       "    }\n",
       "  </style>\n",
       "\n",
       "    <script>\n",
       "      const buttonEl =\n",
       "        document.querySelector('#df-cc883550-ebaa-42b5-97f1-7132698e5f6b button.colab-df-convert');\n",
       "      buttonEl.style.display =\n",
       "        google.colab.kernel.accessAllowed ? 'block' : 'none';\n",
       "\n",
       "      async function convertToInteractive(key) {\n",
       "        const element = document.querySelector('#df-cc883550-ebaa-42b5-97f1-7132698e5f6b');\n",
       "        const dataTable =\n",
       "          await google.colab.kernel.invokeFunction('convertToInteractive',\n",
       "                                                    [key], {});\n",
       "        if (!dataTable) return;\n",
       "\n",
       "        const docLinkHtml = 'Like what you see? Visit the ' +\n",
       "          '<a target=\"_blank\" href=https://colab.research.google.com/notebooks/data_table.ipynb>data table notebook</a>'\n",
       "          + ' to learn more about interactive tables.';\n",
       "        element.innerHTML = '';\n",
       "        dataTable['output_type'] = 'display_data';\n",
       "        await google.colab.output.renderOutput(dataTable, element);\n",
       "        const docLink = document.createElement('div');\n",
       "        docLink.innerHTML = docLinkHtml;\n",
       "        element.appendChild(docLink);\n",
       "      }\n",
       "    </script>\n",
       "  </div>\n",
       "\n",
       "\n",
       "<div id=\"df-8866518c-3212-48af-ac98-5c3effa2078b\">\n",
       "  <button class=\"colab-df-quickchart\" onclick=\"quickchart('df-8866518c-3212-48af-ac98-5c3effa2078b')\"\n",
       "            title=\"Suggest charts\"\n",
       "            style=\"display:none;\">\n",
       "\n",
       "<svg xmlns=\"http://www.w3.org/2000/svg\" height=\"24px\"viewBox=\"0 0 24 24\"\n",
       "     width=\"24px\">\n",
       "    <g>\n",
       "        <path d=\"M19 3H5c-1.1 0-2 .9-2 2v14c0 1.1.9 2 2 2h14c1.1 0 2-.9 2-2V5c0-1.1-.9-2-2-2zM9 17H7v-7h2v7zm4 0h-2V7h2v10zm4 0h-2v-4h2v4z\"/>\n",
       "    </g>\n",
       "</svg>\n",
       "  </button>\n",
       "\n",
       "<style>\n",
       "  .colab-df-quickchart {\n",
       "      --bg-color: #E8F0FE;\n",
       "      --fill-color: #1967D2;\n",
       "      --hover-bg-color: #E2EBFA;\n",
       "      --hover-fill-color: #174EA6;\n",
       "      --disabled-fill-color: #AAA;\n",
       "      --disabled-bg-color: #DDD;\n",
       "  }\n",
       "\n",
       "  [theme=dark] .colab-df-quickchart {\n",
       "      --bg-color: #3B4455;\n",
       "      --fill-color: #D2E3FC;\n",
       "      --hover-bg-color: #434B5C;\n",
       "      --hover-fill-color: #FFFFFF;\n",
       "      --disabled-bg-color: #3B4455;\n",
       "      --disabled-fill-color: #666;\n",
       "  }\n",
       "\n",
       "  .colab-df-quickchart {\n",
       "    background-color: var(--bg-color);\n",
       "    border: none;\n",
       "    border-radius: 50%;\n",
       "    cursor: pointer;\n",
       "    display: none;\n",
       "    fill: var(--fill-color);\n",
       "    height: 32px;\n",
       "    padding: 0;\n",
       "    width: 32px;\n",
       "  }\n",
       "\n",
       "  .colab-df-quickchart:hover {\n",
       "    background-color: var(--hover-bg-color);\n",
       "    box-shadow: 0 1px 2px rgba(60, 64, 67, 0.3), 0 1px 3px 1px rgba(60, 64, 67, 0.15);\n",
       "    fill: var(--button-hover-fill-color);\n",
       "  }\n",
       "\n",
       "  .colab-df-quickchart-complete:disabled,\n",
       "  .colab-df-quickchart-complete:disabled:hover {\n",
       "    background-color: var(--disabled-bg-color);\n",
       "    fill: var(--disabled-fill-color);\n",
       "    box-shadow: none;\n",
       "  }\n",
       "\n",
       "  .colab-df-spinner {\n",
       "    border: 2px solid var(--fill-color);\n",
       "    border-color: transparent;\n",
       "    border-bottom-color: var(--fill-color);\n",
       "    animation:\n",
       "      spin 1s steps(1) infinite;\n",
       "  }\n",
       "\n",
       "  @keyframes spin {\n",
       "    0% {\n",
       "      border-color: transparent;\n",
       "      border-bottom-color: var(--fill-color);\n",
       "      border-left-color: var(--fill-color);\n",
       "    }\n",
       "    20% {\n",
       "      border-color: transparent;\n",
       "      border-left-color: var(--fill-color);\n",
       "      border-top-color: var(--fill-color);\n",
       "    }\n",
       "    30% {\n",
       "      border-color: transparent;\n",
       "      border-left-color: var(--fill-color);\n",
       "      border-top-color: var(--fill-color);\n",
       "      border-right-color: var(--fill-color);\n",
       "    }\n",
       "    40% {\n",
       "      border-color: transparent;\n",
       "      border-right-color: var(--fill-color);\n",
       "      border-top-color: var(--fill-color);\n",
       "    }\n",
       "    60% {\n",
       "      border-color: transparent;\n",
       "      border-right-color: var(--fill-color);\n",
       "    }\n",
       "    80% {\n",
       "      border-color: transparent;\n",
       "      border-right-color: var(--fill-color);\n",
       "      border-bottom-color: var(--fill-color);\n",
       "    }\n",
       "    90% {\n",
       "      border-color: transparent;\n",
       "      border-bottom-color: var(--fill-color);\n",
       "    }\n",
       "  }\n",
       "</style>\n",
       "\n",
       "  <script>\n",
       "    async function quickchart(key) {\n",
       "      const quickchartButtonEl =\n",
       "        document.querySelector('#' + key + ' button');\n",
       "      quickchartButtonEl.disabled = true;  // To prevent multiple clicks.\n",
       "      quickchartButtonEl.classList.add('colab-df-spinner');\n",
       "      try {\n",
       "        const charts = await google.colab.kernel.invokeFunction(\n",
       "            'suggestCharts', [key], {});\n",
       "      } catch (error) {\n",
       "        console.error('Error during call to suggestCharts:', error);\n",
       "      }\n",
       "      quickchartButtonEl.classList.remove('colab-df-spinner');\n",
       "      quickchartButtonEl.classList.add('colab-df-quickchart-complete');\n",
       "    }\n",
       "    (() => {\n",
       "      let quickchartButtonEl =\n",
       "        document.querySelector('#df-8866518c-3212-48af-ac98-5c3effa2078b button');\n",
       "      quickchartButtonEl.style.display =\n",
       "        google.colab.kernel.accessAllowed ? 'block' : 'none';\n",
       "    })();\n",
       "  </script>\n",
       "</div>\n",
       "    </div>\n",
       "  </div>\n"
      ],
      "text/plain": [
       "                Age        Employment Type        GraduateOrNot         \\\n",
       "               mean median            mean median          mean median   \n",
       "clusters                                                                 \n",
       "0         29.471429   30.0        0.157143    0.0      0.000000    0.0   \n",
       "1         29.603550   29.0        0.000000    0.0      1.000000    1.0   \n",
       "2         29.186111   29.0        0.066667    0.0      0.958333    1.0   \n",
       "3         30.161355   31.0        1.000000    1.0      1.000000    1.0   \n",
       "\n",
       "          AnnualIncome            FamilyMembers        ChronicDiseases         \\\n",
       "                  mean     median          mean median            mean median   \n",
       "clusters                                                                        \n",
       "0         8.010714e+05   800000.0      4.660714    4.0        0.242857    0.0   \n",
       "1         8.995266e+05   900000.0      4.791716    5.0        0.279290    0.0   \n",
       "2         1.399028e+06  1400000.0      4.683333    4.0        0.297222    0.0   \n",
       "3         7.277888e+05   750000.0      4.788845    5.0        0.280876    0.0   \n",
       "\n",
       "         TravelInsurance        TravelExperience         \n",
       "                    mean median             mean median  \n",
       "clusters                                                 \n",
       "0               0.307143    0.0         0.367857    0.0  \n",
       "1               0.235503    0.0         0.152663    0.0  \n",
       "2               0.844444    1.0         2.377778    2.0  \n",
       "3               0.241036    0.0         0.177291    0.0  "
      ]
     },
     "metadata": {},
     "output_type": "display_data"
    }
   ],
   "source": [
    "display(df_new.groupby('clusters').agg(['mean','median']))"
   ]
  },
  {
   "cell_type": "markdown",
   "metadata": {
    "id": "_tJRoR9bhWWP"
   },
   "source": [
    "**Cluster 0:**\r\n",
    "\r\n",
    "Karakteristik:\r\n",
    "\r\n",
    "*   Rata-rata pelanggan bekerja di bidang swasta/wiraswasta.\r\n",
    "*   Rata-rata bukan lulusan universitas.\r\n",
    "*   Memiliki pendapatan di bawah rata-rata.\r\n",
    "*   Jarang bepergian domestik dan internasional.\r\n",
    "\r\n",
    "Interpretasi: Pelanggan di cluster ini dapat dikategorikan sebagai pelanggan berpenghasilan rendah dengan mobilitas rendah. Cluster ini perlu didorong untuk membeli paket asuransi yang sesuai dengan keuangannya dan fokuskan pada perjalanan domestik.\r\n",
    "\r\n",
    "**Cluster 1:**\r\n",
    "\r\n",
    "Karakteristik:\r\n",
    "*   Rata-rata pelanggan bekerja di bidang swasta/wiraswasta.\r\n",
    "*   Rata-rata adalah lulusan universitas.\r\n",
    "*   Memiliki pendapatan rata-rata.\r\n",
    "*   Jarang bepergian domestik dan internasional.\r\n",
    "\r\n",
    "Interpretasi: Pelanggan di cluster ini dapat dikategorikan sebagai pelanggan berpenghasilan sedang dengan mobilitas rendah. Cluster ini memiliki potensi untuk menjadi pelanggan berulang (repeat customer).\r\n",
    "\r\n",
    "\r\n",
    "**Cluster 2:**\r\n",
    "\r\n",
    "Karakteristik:\r\n",
    "*   Rata-rata pelanggan bekerja di bidang swasta/wiraswasta.\r\n",
    "*   Rata-rata adalah lulusan universitas.\r\n",
    "*   Memiliki pendapatan di atas rata-rata.\r\n",
    "*   Sering bepergian domestik dan internasional.\r\n",
    "\r\n",
    "Interpretasi: Pelanggan di cluster ini dapat dikategorikan sebagai pelanggan berpenghasilan tinggi dengan mobilitas tinggi. Cluster ini perlu dipertahankan dan ditingkatkan penjualannya maupun nilai pelanggannya.\r\n",
    "\r\n",
    "**Cluster 3:**\r\n",
    "\r\n",
    "Karakteristik:\r\n",
    "*   Rata-rata pelanggan bekerja di pemerintah.\r\n",
    "*   Rata-rata adalah lulusan universitas.\r\n",
    "*   Memiliki pendapatan di bawah rata-rata.\r\n",
    "*   Jarang bepergian domestik dan internasional.\r\n",
    "\r\n",
    "Interpretasi: Sedikit berbeda dengan cluster 0, cluster 3 adalah Pegawai Negeri Sipil dengan mobilitas rendah. Umumnya, PNS sudah memiliki asuransi sendiri sehingga tidak membutuhkan asuransi dari luar lagi. Terjasama dPNS melengkapi paket asuransinya yang sudah adaorong pembelian paket asuransi pelengkap."
   ]
  },
  {
   "cell_type": "markdown",
   "metadata": {
    "id": "4m5hJOoqhiC_"
   },
   "source": [
    "# Business Recommendation"
   ]
  },
  {
   "cell_type": "markdown",
   "metadata": {},
   "source": [
    "**Cluster 0: Pelanggan Berpenghasilan Rendah dengan Mobilitas Rendah**\r\n",
    "\r\n",
    "* Tawarkan premi yang terjangkau.\r\n",
    "* Tawarkan jenis asuransi single trip yang dapat menjamin untuk satu kali perjalanan dalam kurun waktu tertentu.\r\n",
    "* Tawarkan jenis asuransi perjalanan domestik.\r\n",
    "* Fokus pada manfaat dasar asuransi perjalanan, yaitu mengganti biaya pengobatan dan kecelakaan diri selama perjalanan.\r\n",
    "* Jalin kerjasama dengan perusahaan tour & travel dan online booking platform.\r\n",
    "* Edukasi pelanggan tentang manfaat asuransi perjalanan dengan Covid cover melalui email, sosial media, dan acara Travel Fair.\r\n",
    "\r\n",
    "**Cluster 1: Pelanggan Berpenghasilan Sedang dengan Mobilitas Rendah**\r\n",
    "\r\n",
    "* Tawarkan promo dan diskon menarik untuk mendorong pembelian.\r\n",
    "* Tambahkan manfaat asuransi perjalanan, seperti penundaan/pembatalan perjalanan, keterlambatan/kehilangan bagasi, dan kerusakan/kehilangan barang berharga.\r\n",
    "* Tawarkan jenis asuransi perjalanan domestik dan internasional.\r\n",
    "* Jalin kerjasama dengan perusahaan tour & travel dan online booking platform.\r\n",
    "* Edukasi pelanggan tentang manfaat asuransi perjalanan dengan Covid cover melalui email, sosial media, dan acara Travel Fair.\r\n",
    "\r\n",
    "**Cluster 2: Pelanggan Berpenghasilan Tinggi dengan Mobilitas Tinggi**\r\n",
    "\r\n",
    "* Tawarkan asuransi perjalanan dengan manfaat yang lebih luas, seperti perlindungan gadget, perlindungan terhadap rumah apabila meninggalkan rumah dalam jangka waktu yang cukup lama, dan bantuan hukum jika mengalami masalah hukum di lokasi tujuan.\r\n",
    "* Tawarkan perlindungan premium tambahan seperti perlindungan visa, resiko olahraga musim dingin, dan perlindungan kapal pesiar.\r\n",
    "* Tawarkan jenis asuransi tahunan, yaitu program asuransi yang dapat menjamin perjalanan sepanjang tahun dengan batasan durasi setiap perjalanannya.\r\n",
    "* Iklankan penawaran khusus untuk perjalanan bisnis atau liburan eksklusif melalui email dan sosial media.\r\n",
    "* Jalin kerjasama dengan maskapai penerbangan, hotel, dan perusahaan tour & travel untuk menawarkan paket wisata dan asuransi perjalanan yang menarik.\r\n",
    "* Buat program loyalitas untuk pelanggan setia yang sering bepergian.\r\n",
    "\r\n",
    "**Cluster 3: Pegawai Negeri Sipil dn**an an dinas dan wisata keluarga."
   ]
  },
  {
   "cell_type": "code",
   "execution_count": null,
   "metadata": {},
   "outputs": [],
   "source": []
  }
 ],
 "metadata": {
  "accelerator": "GPU",
  "colab": {
   "gpuType": "T4",
   "provenance": [],
   "toc_visible": true
  },
  "kernelspec": {
   "display_name": "Python 3 (ipykernel)",
   "language": "python",
   "name": "python3"
  },
  "language_info": {
   "codemirror_mode": {
    "name": "ipython",
    "version": 3
   },
   "file_extension": ".py",
   "mimetype": "text/x-python",
   "name": "python",
   "nbconvert_exporter": "python",
   "pygments_lexer": "ipython3",
   "version": "3.10.13"
  }
 },
 "nbformat": 4,
 "nbformat_minor": 4
}
